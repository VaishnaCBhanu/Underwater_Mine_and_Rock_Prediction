{
 "cells": [
  {
   "cell_type": "markdown",
   "id": "a570a4cf",
   "metadata": {},
   "source": [
    "# Underwater Mine and Rock Prediction by Evaluation of Machine Learning Algorithms"
   ]
  },
  {
   "cell_type": "code",
   "execution_count": 1,
   "id": "0c952912",
   "metadata": {},
   "outputs": [],
   "source": [
    "import os\n",
    "import numpy as np\n",
    "import pandas as pd\n",
    "from matplotlib import pyplot"
   ]
  },
  {
   "cell_type": "code",
   "execution_count": 2,
   "id": "78c71849",
   "metadata": {},
   "outputs": [],
   "source": [
    "sonar_data=pd.read_csv(r'C:\\Users\\chcha\\Desktop\\Projects\\Sonar\\sonar.csv',header=None)"
   ]
  },
  {
   "cell_type": "code",
   "execution_count": 3,
   "id": "4b1f91e6",
   "metadata": {},
   "outputs": [
    {
     "data": {
      "text/html": [
       "<div>\n",
       "<style scoped>\n",
       "    .dataframe tbody tr th:only-of-type {\n",
       "        vertical-align: middle;\n",
       "    }\n",
       "\n",
       "    .dataframe tbody tr th {\n",
       "        vertical-align: top;\n",
       "    }\n",
       "\n",
       "    .dataframe thead th {\n",
       "        text-align: right;\n",
       "    }\n",
       "</style>\n",
       "<table border=\"1\" class=\"dataframe\">\n",
       "  <thead>\n",
       "    <tr style=\"text-align: right;\">\n",
       "      <th></th>\n",
       "      <th>0</th>\n",
       "      <th>1</th>\n",
       "      <th>2</th>\n",
       "      <th>3</th>\n",
       "      <th>4</th>\n",
       "      <th>5</th>\n",
       "      <th>6</th>\n",
       "      <th>7</th>\n",
       "      <th>8</th>\n",
       "      <th>9</th>\n",
       "      <th>...</th>\n",
       "      <th>51</th>\n",
       "      <th>52</th>\n",
       "      <th>53</th>\n",
       "      <th>54</th>\n",
       "      <th>55</th>\n",
       "      <th>56</th>\n",
       "      <th>57</th>\n",
       "      <th>58</th>\n",
       "      <th>59</th>\n",
       "      <th>60</th>\n",
       "    </tr>\n",
       "  </thead>\n",
       "  <tbody>\n",
       "    <tr>\n",
       "      <th>0</th>\n",
       "      <td>0.0200</td>\n",
       "      <td>0.0371</td>\n",
       "      <td>0.0428</td>\n",
       "      <td>0.0207</td>\n",
       "      <td>0.0954</td>\n",
       "      <td>0.0986</td>\n",
       "      <td>0.1539</td>\n",
       "      <td>0.1601</td>\n",
       "      <td>0.3109</td>\n",
       "      <td>0.2111</td>\n",
       "      <td>...</td>\n",
       "      <td>0.0027</td>\n",
       "      <td>0.0065</td>\n",
       "      <td>0.0159</td>\n",
       "      <td>0.0072</td>\n",
       "      <td>0.0167</td>\n",
       "      <td>0.0180</td>\n",
       "      <td>0.0084</td>\n",
       "      <td>0.0090</td>\n",
       "      <td>0.0032</td>\n",
       "      <td>R</td>\n",
       "    </tr>\n",
       "    <tr>\n",
       "      <th>1</th>\n",
       "      <td>0.0453</td>\n",
       "      <td>0.0523</td>\n",
       "      <td>0.0843</td>\n",
       "      <td>0.0689</td>\n",
       "      <td>0.1183</td>\n",
       "      <td>0.2583</td>\n",
       "      <td>0.2156</td>\n",
       "      <td>0.3481</td>\n",
       "      <td>0.3337</td>\n",
       "      <td>0.2872</td>\n",
       "      <td>...</td>\n",
       "      <td>0.0084</td>\n",
       "      <td>0.0089</td>\n",
       "      <td>0.0048</td>\n",
       "      <td>0.0094</td>\n",
       "      <td>0.0191</td>\n",
       "      <td>0.0140</td>\n",
       "      <td>0.0049</td>\n",
       "      <td>0.0052</td>\n",
       "      <td>0.0044</td>\n",
       "      <td>R</td>\n",
       "    </tr>\n",
       "    <tr>\n",
       "      <th>2</th>\n",
       "      <td>0.0262</td>\n",
       "      <td>0.0582</td>\n",
       "      <td>0.1099</td>\n",
       "      <td>0.1083</td>\n",
       "      <td>0.0974</td>\n",
       "      <td>0.2280</td>\n",
       "      <td>0.2431</td>\n",
       "      <td>0.3771</td>\n",
       "      <td>0.5598</td>\n",
       "      <td>0.6194</td>\n",
       "      <td>...</td>\n",
       "      <td>0.0232</td>\n",
       "      <td>0.0166</td>\n",
       "      <td>0.0095</td>\n",
       "      <td>0.0180</td>\n",
       "      <td>0.0244</td>\n",
       "      <td>0.0316</td>\n",
       "      <td>0.0164</td>\n",
       "      <td>0.0095</td>\n",
       "      <td>0.0078</td>\n",
       "      <td>R</td>\n",
       "    </tr>\n",
       "    <tr>\n",
       "      <th>3</th>\n",
       "      <td>0.0100</td>\n",
       "      <td>0.0171</td>\n",
       "      <td>0.0623</td>\n",
       "      <td>0.0205</td>\n",
       "      <td>0.0205</td>\n",
       "      <td>0.0368</td>\n",
       "      <td>0.1098</td>\n",
       "      <td>0.1276</td>\n",
       "      <td>0.0598</td>\n",
       "      <td>0.1264</td>\n",
       "      <td>...</td>\n",
       "      <td>0.0121</td>\n",
       "      <td>0.0036</td>\n",
       "      <td>0.0150</td>\n",
       "      <td>0.0085</td>\n",
       "      <td>0.0073</td>\n",
       "      <td>0.0050</td>\n",
       "      <td>0.0044</td>\n",
       "      <td>0.0040</td>\n",
       "      <td>0.0117</td>\n",
       "      <td>R</td>\n",
       "    </tr>\n",
       "    <tr>\n",
       "      <th>4</th>\n",
       "      <td>0.0762</td>\n",
       "      <td>0.0666</td>\n",
       "      <td>0.0481</td>\n",
       "      <td>0.0394</td>\n",
       "      <td>0.0590</td>\n",
       "      <td>0.0649</td>\n",
       "      <td>0.1209</td>\n",
       "      <td>0.2467</td>\n",
       "      <td>0.3564</td>\n",
       "      <td>0.4459</td>\n",
       "      <td>...</td>\n",
       "      <td>0.0031</td>\n",
       "      <td>0.0054</td>\n",
       "      <td>0.0105</td>\n",
       "      <td>0.0110</td>\n",
       "      <td>0.0015</td>\n",
       "      <td>0.0072</td>\n",
       "      <td>0.0048</td>\n",
       "      <td>0.0107</td>\n",
       "      <td>0.0094</td>\n",
       "      <td>R</td>\n",
       "    </tr>\n",
       "  </tbody>\n",
       "</table>\n",
       "<p>5 rows × 61 columns</p>\n",
       "</div>"
      ],
      "text/plain": [
       "       0       1       2       3       4       5       6       7       8   \\\n",
       "0  0.0200  0.0371  0.0428  0.0207  0.0954  0.0986  0.1539  0.1601  0.3109   \n",
       "1  0.0453  0.0523  0.0843  0.0689  0.1183  0.2583  0.2156  0.3481  0.3337   \n",
       "2  0.0262  0.0582  0.1099  0.1083  0.0974  0.2280  0.2431  0.3771  0.5598   \n",
       "3  0.0100  0.0171  0.0623  0.0205  0.0205  0.0368  0.1098  0.1276  0.0598   \n",
       "4  0.0762  0.0666  0.0481  0.0394  0.0590  0.0649  0.1209  0.2467  0.3564   \n",
       "\n",
       "       9   ...      51      52      53      54      55      56      57  \\\n",
       "0  0.2111  ...  0.0027  0.0065  0.0159  0.0072  0.0167  0.0180  0.0084   \n",
       "1  0.2872  ...  0.0084  0.0089  0.0048  0.0094  0.0191  0.0140  0.0049   \n",
       "2  0.6194  ...  0.0232  0.0166  0.0095  0.0180  0.0244  0.0316  0.0164   \n",
       "3  0.1264  ...  0.0121  0.0036  0.0150  0.0085  0.0073  0.0050  0.0044   \n",
       "4  0.4459  ...  0.0031  0.0054  0.0105  0.0110  0.0015  0.0072  0.0048   \n",
       "\n",
       "       58      59  60  \n",
       "0  0.0090  0.0032   R  \n",
       "1  0.0052  0.0044   R  \n",
       "2  0.0095  0.0078   R  \n",
       "3  0.0040  0.0117   R  \n",
       "4  0.0107  0.0094   R  \n",
       "\n",
       "[5 rows x 61 columns]"
      ]
     },
     "execution_count": 3,
     "metadata": {},
     "output_type": "execute_result"
    }
   ],
   "source": [
    "sonar_data.head()"
   ]
  },
  {
   "cell_type": "code",
   "execution_count": 4,
   "id": "15dd685c",
   "metadata": {},
   "outputs": [
    {
     "data": {
      "text/html": [
       "<div>\n",
       "<style scoped>\n",
       "    .dataframe tbody tr th:only-of-type {\n",
       "        vertical-align: middle;\n",
       "    }\n",
       "\n",
       "    .dataframe tbody tr th {\n",
       "        vertical-align: top;\n",
       "    }\n",
       "\n",
       "    .dataframe thead th {\n",
       "        text-align: right;\n",
       "    }\n",
       "</style>\n",
       "<table border=\"1\" class=\"dataframe\">\n",
       "  <thead>\n",
       "    <tr style=\"text-align: right;\">\n",
       "      <th></th>\n",
       "      <th>0</th>\n",
       "      <th>1</th>\n",
       "      <th>2</th>\n",
       "      <th>3</th>\n",
       "      <th>4</th>\n",
       "      <th>5</th>\n",
       "      <th>6</th>\n",
       "      <th>7</th>\n",
       "      <th>8</th>\n",
       "      <th>9</th>\n",
       "      <th>...</th>\n",
       "      <th>51</th>\n",
       "      <th>52</th>\n",
       "      <th>53</th>\n",
       "      <th>54</th>\n",
       "      <th>55</th>\n",
       "      <th>56</th>\n",
       "      <th>57</th>\n",
       "      <th>58</th>\n",
       "      <th>59</th>\n",
       "      <th>60</th>\n",
       "    </tr>\n",
       "  </thead>\n",
       "  <tbody>\n",
       "    <tr>\n",
       "      <th>203</th>\n",
       "      <td>0.0187</td>\n",
       "      <td>0.0346</td>\n",
       "      <td>0.0168</td>\n",
       "      <td>0.0177</td>\n",
       "      <td>0.0393</td>\n",
       "      <td>0.1630</td>\n",
       "      <td>0.2028</td>\n",
       "      <td>0.1694</td>\n",
       "      <td>0.2328</td>\n",
       "      <td>0.2684</td>\n",
       "      <td>...</td>\n",
       "      <td>0.0116</td>\n",
       "      <td>0.0098</td>\n",
       "      <td>0.0199</td>\n",
       "      <td>0.0033</td>\n",
       "      <td>0.0101</td>\n",
       "      <td>0.0065</td>\n",
       "      <td>0.0115</td>\n",
       "      <td>0.0193</td>\n",
       "      <td>0.0157</td>\n",
       "      <td>M</td>\n",
       "    </tr>\n",
       "    <tr>\n",
       "      <th>204</th>\n",
       "      <td>0.0323</td>\n",
       "      <td>0.0101</td>\n",
       "      <td>0.0298</td>\n",
       "      <td>0.0564</td>\n",
       "      <td>0.0760</td>\n",
       "      <td>0.0958</td>\n",
       "      <td>0.0990</td>\n",
       "      <td>0.1018</td>\n",
       "      <td>0.1030</td>\n",
       "      <td>0.2154</td>\n",
       "      <td>...</td>\n",
       "      <td>0.0061</td>\n",
       "      <td>0.0093</td>\n",
       "      <td>0.0135</td>\n",
       "      <td>0.0063</td>\n",
       "      <td>0.0063</td>\n",
       "      <td>0.0034</td>\n",
       "      <td>0.0032</td>\n",
       "      <td>0.0062</td>\n",
       "      <td>0.0067</td>\n",
       "      <td>M</td>\n",
       "    </tr>\n",
       "    <tr>\n",
       "      <th>205</th>\n",
       "      <td>0.0522</td>\n",
       "      <td>0.0437</td>\n",
       "      <td>0.0180</td>\n",
       "      <td>0.0292</td>\n",
       "      <td>0.0351</td>\n",
       "      <td>0.1171</td>\n",
       "      <td>0.1257</td>\n",
       "      <td>0.1178</td>\n",
       "      <td>0.1258</td>\n",
       "      <td>0.2529</td>\n",
       "      <td>...</td>\n",
       "      <td>0.0160</td>\n",
       "      <td>0.0029</td>\n",
       "      <td>0.0051</td>\n",
       "      <td>0.0062</td>\n",
       "      <td>0.0089</td>\n",
       "      <td>0.0140</td>\n",
       "      <td>0.0138</td>\n",
       "      <td>0.0077</td>\n",
       "      <td>0.0031</td>\n",
       "      <td>M</td>\n",
       "    </tr>\n",
       "    <tr>\n",
       "      <th>206</th>\n",
       "      <td>0.0303</td>\n",
       "      <td>0.0353</td>\n",
       "      <td>0.0490</td>\n",
       "      <td>0.0608</td>\n",
       "      <td>0.0167</td>\n",
       "      <td>0.1354</td>\n",
       "      <td>0.1465</td>\n",
       "      <td>0.1123</td>\n",
       "      <td>0.1945</td>\n",
       "      <td>0.2354</td>\n",
       "      <td>...</td>\n",
       "      <td>0.0086</td>\n",
       "      <td>0.0046</td>\n",
       "      <td>0.0126</td>\n",
       "      <td>0.0036</td>\n",
       "      <td>0.0035</td>\n",
       "      <td>0.0034</td>\n",
       "      <td>0.0079</td>\n",
       "      <td>0.0036</td>\n",
       "      <td>0.0048</td>\n",
       "      <td>M</td>\n",
       "    </tr>\n",
       "    <tr>\n",
       "      <th>207</th>\n",
       "      <td>0.0260</td>\n",
       "      <td>0.0363</td>\n",
       "      <td>0.0136</td>\n",
       "      <td>0.0272</td>\n",
       "      <td>0.0214</td>\n",
       "      <td>0.0338</td>\n",
       "      <td>0.0655</td>\n",
       "      <td>0.1400</td>\n",
       "      <td>0.1843</td>\n",
       "      <td>0.2354</td>\n",
       "      <td>...</td>\n",
       "      <td>0.0146</td>\n",
       "      <td>0.0129</td>\n",
       "      <td>0.0047</td>\n",
       "      <td>0.0039</td>\n",
       "      <td>0.0061</td>\n",
       "      <td>0.0040</td>\n",
       "      <td>0.0036</td>\n",
       "      <td>0.0061</td>\n",
       "      <td>0.0115</td>\n",
       "      <td>M</td>\n",
       "    </tr>\n",
       "  </tbody>\n",
       "</table>\n",
       "<p>5 rows × 61 columns</p>\n",
       "</div>"
      ],
      "text/plain": [
       "         0       1       2       3       4       5       6       7       8   \\\n",
       "203  0.0187  0.0346  0.0168  0.0177  0.0393  0.1630  0.2028  0.1694  0.2328   \n",
       "204  0.0323  0.0101  0.0298  0.0564  0.0760  0.0958  0.0990  0.1018  0.1030   \n",
       "205  0.0522  0.0437  0.0180  0.0292  0.0351  0.1171  0.1257  0.1178  0.1258   \n",
       "206  0.0303  0.0353  0.0490  0.0608  0.0167  0.1354  0.1465  0.1123  0.1945   \n",
       "207  0.0260  0.0363  0.0136  0.0272  0.0214  0.0338  0.0655  0.1400  0.1843   \n",
       "\n",
       "         9   ...      51      52      53      54      55      56      57  \\\n",
       "203  0.2684  ...  0.0116  0.0098  0.0199  0.0033  0.0101  0.0065  0.0115   \n",
       "204  0.2154  ...  0.0061  0.0093  0.0135  0.0063  0.0063  0.0034  0.0032   \n",
       "205  0.2529  ...  0.0160  0.0029  0.0051  0.0062  0.0089  0.0140  0.0138   \n",
       "206  0.2354  ...  0.0086  0.0046  0.0126  0.0036  0.0035  0.0034  0.0079   \n",
       "207  0.2354  ...  0.0146  0.0129  0.0047  0.0039  0.0061  0.0040  0.0036   \n",
       "\n",
       "         58      59  60  \n",
       "203  0.0193  0.0157   M  \n",
       "204  0.0062  0.0067   M  \n",
       "205  0.0077  0.0031   M  \n",
       "206  0.0036  0.0048   M  \n",
       "207  0.0061  0.0115   M  \n",
       "\n",
       "[5 rows x 61 columns]"
      ]
     },
     "execution_count": 4,
     "metadata": {},
     "output_type": "execute_result"
    }
   ],
   "source": [
    " sonar_data.tail()"
   ]
  },
  {
   "cell_type": "code",
   "execution_count": 5,
   "id": "3e757553",
   "metadata": {},
   "outputs": [
    {
     "data": {
      "text/plain": [
       "(208, 61)"
      ]
     },
     "execution_count": 5,
     "metadata": {},
     "output_type": "execute_result"
    }
   ],
   "source": [
    "sonar_data.shape"
   ]
  },
  {
   "cell_type": "code",
   "execution_count": 6,
   "id": "72f7ec56",
   "metadata": {},
   "outputs": [
    {
     "data": {
      "text/plain": [
       "12688"
      ]
     },
     "execution_count": 6,
     "metadata": {},
     "output_type": "execute_result"
    }
   ],
   "source": [
    "sonar_data.size"
   ]
  },
  {
   "cell_type": "code",
   "execution_count": 7,
   "id": "91d2636d",
   "metadata": {},
   "outputs": [
    {
     "name": "stdout",
     "output_type": "stream",
     "text": [
      " Info Of the Data Set\n",
      "<class 'pandas.core.frame.DataFrame'>\n",
      "RangeIndex: 208 entries, 0 to 207\n",
      "Data columns (total 61 columns):\n",
      " #   Column  Non-Null Count  Dtype  \n",
      "---  ------  --------------  -----  \n",
      " 0   0       208 non-null    float64\n",
      " 1   1       208 non-null    float64\n",
      " 2   2       208 non-null    float64\n",
      " 3   3       208 non-null    float64\n",
      " 4   4       208 non-null    float64\n",
      " 5   5       208 non-null    float64\n",
      " 6   6       208 non-null    float64\n",
      " 7   7       208 non-null    float64\n",
      " 8   8       208 non-null    float64\n",
      " 9   9       208 non-null    float64\n",
      " 10  10      208 non-null    float64\n",
      " 11  11      208 non-null    float64\n",
      " 12  12      208 non-null    float64\n",
      " 13  13      208 non-null    float64\n",
      " 14  14      208 non-null    float64\n",
      " 15  15      208 non-null    float64\n",
      " 16  16      208 non-null    float64\n",
      " 17  17      208 non-null    float64\n",
      " 18  18      208 non-null    float64\n",
      " 19  19      208 non-null    float64\n",
      " 20  20      208 non-null    float64\n",
      " 21  21      208 non-null    float64\n",
      " 22  22      208 non-null    float64\n",
      " 23  23      208 non-null    float64\n",
      " 24  24      208 non-null    float64\n",
      " 25  25      208 non-null    float64\n",
      " 26  26      208 non-null    float64\n",
      " 27  27      208 non-null    float64\n",
      " 28  28      208 non-null    float64\n",
      " 29  29      208 non-null    float64\n",
      " 30  30      208 non-null    float64\n",
      " 31  31      208 non-null    float64\n",
      " 32  32      208 non-null    float64\n",
      " 33  33      208 non-null    float64\n",
      " 34  34      208 non-null    float64\n",
      " 35  35      208 non-null    float64\n",
      " 36  36      208 non-null    float64\n",
      " 37  37      208 non-null    float64\n",
      " 38  38      208 non-null    float64\n",
      " 39  39      208 non-null    float64\n",
      " 40  40      208 non-null    float64\n",
      " 41  41      208 non-null    float64\n",
      " 42  42      208 non-null    float64\n",
      " 43  43      208 non-null    float64\n",
      " 44  44      208 non-null    float64\n",
      " 45  45      208 non-null    float64\n",
      " 46  46      208 non-null    float64\n",
      " 47  47      208 non-null    float64\n",
      " 48  48      208 non-null    float64\n",
      " 49  49      208 non-null    float64\n",
      " 50  50      208 non-null    float64\n",
      " 51  51      208 non-null    float64\n",
      " 52  52      208 non-null    float64\n",
      " 53  53      208 non-null    float64\n",
      " 54  54      208 non-null    float64\n",
      " 55  55      208 non-null    float64\n",
      " 56  56      208 non-null    float64\n",
      " 57  57      208 non-null    float64\n",
      " 58  58      208 non-null    float64\n",
      " 59  59      208 non-null    float64\n",
      " 60  60      208 non-null    object \n",
      "dtypes: float64(60), object(1)\n",
      "memory usage: 99.2+ KB\n"
     ]
    }
   ],
   "source": [
    "print(\" Info Of the Data Set\")\n",
    "sonar_data.info()"
   ]
  },
  {
   "cell_type": "code",
   "execution_count": 8,
   "id": "3192ea02",
   "metadata": {},
   "outputs": [
    {
     "data": {
      "text/plain": [
       "M    111\n",
       "R     97\n",
       "Name: 60, dtype: int64"
      ]
     },
     "execution_count": 8,
     "metadata": {},
     "output_type": "execute_result"
    }
   ],
   "source": [
    "sonar_data[60].value_counts()"
   ]
  },
  {
   "cell_type": "code",
   "execution_count": 9,
   "id": "2bdba6d1",
   "metadata": {},
   "outputs": [
    {
     "data": {
      "text/html": [
       "<div>\n",
       "<style scoped>\n",
       "    .dataframe tbody tr th:only-of-type {\n",
       "        vertical-align: middle;\n",
       "    }\n",
       "\n",
       "    .dataframe tbody tr th {\n",
       "        vertical-align: top;\n",
       "    }\n",
       "\n",
       "    .dataframe thead th {\n",
       "        text-align: right;\n",
       "    }\n",
       "</style>\n",
       "<table border=\"1\" class=\"dataframe\">\n",
       "  <thead>\n",
       "    <tr style=\"text-align: right;\">\n",
       "      <th></th>\n",
       "      <th>0</th>\n",
       "      <th>1</th>\n",
       "      <th>2</th>\n",
       "      <th>3</th>\n",
       "      <th>4</th>\n",
       "      <th>5</th>\n",
       "      <th>6</th>\n",
       "      <th>7</th>\n",
       "      <th>8</th>\n",
       "      <th>9</th>\n",
       "      <th>...</th>\n",
       "      <th>50</th>\n",
       "      <th>51</th>\n",
       "      <th>52</th>\n",
       "      <th>53</th>\n",
       "      <th>54</th>\n",
       "      <th>55</th>\n",
       "      <th>56</th>\n",
       "      <th>57</th>\n",
       "      <th>58</th>\n",
       "      <th>59</th>\n",
       "    </tr>\n",
       "    <tr>\n",
       "      <th>60</th>\n",
       "      <th></th>\n",
       "      <th></th>\n",
       "      <th></th>\n",
       "      <th></th>\n",
       "      <th></th>\n",
       "      <th></th>\n",
       "      <th></th>\n",
       "      <th></th>\n",
       "      <th></th>\n",
       "      <th></th>\n",
       "      <th></th>\n",
       "      <th></th>\n",
       "      <th></th>\n",
       "      <th></th>\n",
       "      <th></th>\n",
       "      <th></th>\n",
       "      <th></th>\n",
       "      <th></th>\n",
       "      <th></th>\n",
       "      <th></th>\n",
       "      <th></th>\n",
       "    </tr>\n",
       "  </thead>\n",
       "  <tbody>\n",
       "    <tr>\n",
       "      <th>M</th>\n",
       "      <td>0.034989</td>\n",
       "      <td>0.045544</td>\n",
       "      <td>0.050720</td>\n",
       "      <td>0.064768</td>\n",
       "      <td>0.086715</td>\n",
       "      <td>0.111864</td>\n",
       "      <td>0.128359</td>\n",
       "      <td>0.149832</td>\n",
       "      <td>0.213492</td>\n",
       "      <td>0.251022</td>\n",
       "      <td>...</td>\n",
       "      <td>0.019352</td>\n",
       "      <td>0.016014</td>\n",
       "      <td>0.011643</td>\n",
       "      <td>0.012185</td>\n",
       "      <td>0.009923</td>\n",
       "      <td>0.008914</td>\n",
       "      <td>0.007825</td>\n",
       "      <td>0.009060</td>\n",
       "      <td>0.008695</td>\n",
       "      <td>0.006930</td>\n",
       "    </tr>\n",
       "    <tr>\n",
       "      <th>R</th>\n",
       "      <td>0.022498</td>\n",
       "      <td>0.030303</td>\n",
       "      <td>0.035951</td>\n",
       "      <td>0.041447</td>\n",
       "      <td>0.062028</td>\n",
       "      <td>0.096224</td>\n",
       "      <td>0.114180</td>\n",
       "      <td>0.117596</td>\n",
       "      <td>0.137392</td>\n",
       "      <td>0.159325</td>\n",
       "      <td>...</td>\n",
       "      <td>0.012311</td>\n",
       "      <td>0.010453</td>\n",
       "      <td>0.009640</td>\n",
       "      <td>0.009518</td>\n",
       "      <td>0.008567</td>\n",
       "      <td>0.007430</td>\n",
       "      <td>0.007814</td>\n",
       "      <td>0.006677</td>\n",
       "      <td>0.007078</td>\n",
       "      <td>0.006024</td>\n",
       "    </tr>\n",
       "  </tbody>\n",
       "</table>\n",
       "<p>2 rows × 60 columns</p>\n",
       "</div>"
      ],
      "text/plain": [
       "          0         1         2         3         4         5         6   \\\n",
       "60                                                                         \n",
       "M   0.034989  0.045544  0.050720  0.064768  0.086715  0.111864  0.128359   \n",
       "R   0.022498  0.030303  0.035951  0.041447  0.062028  0.096224  0.114180   \n",
       "\n",
       "          7         8         9   ...        50        51        52        53  \\\n",
       "60                                ...                                           \n",
       "M   0.149832  0.213492  0.251022  ...  0.019352  0.016014  0.011643  0.012185   \n",
       "R   0.117596  0.137392  0.159325  ...  0.012311  0.010453  0.009640  0.009518   \n",
       "\n",
       "          54        55        56        57        58        59  \n",
       "60                                                              \n",
       "M   0.009923  0.008914  0.007825  0.009060  0.008695  0.006930  \n",
       "R   0.008567  0.007430  0.007814  0.006677  0.007078  0.006024  \n",
       "\n",
       "[2 rows x 60 columns]"
      ]
     },
     "execution_count": 9,
     "metadata": {},
     "output_type": "execute_result"
    }
   ],
   "source": [
    "sonar_data.groupby(60).mean()"
   ]
  },
  {
   "cell_type": "code",
   "execution_count": 10,
   "id": "faa2b5a1",
   "metadata": {},
   "outputs": [
    {
     "data": {
      "text/html": [
       "<div>\n",
       "<style scoped>\n",
       "    .dataframe tbody tr th:only-of-type {\n",
       "        vertical-align: middle;\n",
       "    }\n",
       "\n",
       "    .dataframe tbody tr th {\n",
       "        vertical-align: top;\n",
       "    }\n",
       "\n",
       "    .dataframe thead th {\n",
       "        text-align: right;\n",
       "    }\n",
       "</style>\n",
       "<table border=\"1\" class=\"dataframe\">\n",
       "  <thead>\n",
       "    <tr style=\"text-align: right;\">\n",
       "      <th></th>\n",
       "      <th>0</th>\n",
       "      <th>1</th>\n",
       "      <th>2</th>\n",
       "      <th>3</th>\n",
       "      <th>4</th>\n",
       "      <th>5</th>\n",
       "      <th>6</th>\n",
       "      <th>7</th>\n",
       "      <th>8</th>\n",
       "      <th>9</th>\n",
       "      <th>...</th>\n",
       "      <th>50</th>\n",
       "      <th>51</th>\n",
       "      <th>52</th>\n",
       "      <th>53</th>\n",
       "      <th>54</th>\n",
       "      <th>55</th>\n",
       "      <th>56</th>\n",
       "      <th>57</th>\n",
       "      <th>58</th>\n",
       "      <th>59</th>\n",
       "    </tr>\n",
       "  </thead>\n",
       "  <tbody>\n",
       "    <tr>\n",
       "      <th>count</th>\n",
       "      <td>208.000000</td>\n",
       "      <td>208.000000</td>\n",
       "      <td>208.000000</td>\n",
       "      <td>208.000000</td>\n",
       "      <td>208.000000</td>\n",
       "      <td>208.000000</td>\n",
       "      <td>208.000000</td>\n",
       "      <td>208.000000</td>\n",
       "      <td>208.000000</td>\n",
       "      <td>208.000000</td>\n",
       "      <td>...</td>\n",
       "      <td>208.000000</td>\n",
       "      <td>208.000000</td>\n",
       "      <td>208.000000</td>\n",
       "      <td>208.000000</td>\n",
       "      <td>208.000000</td>\n",
       "      <td>208.000000</td>\n",
       "      <td>208.000000</td>\n",
       "      <td>208.000000</td>\n",
       "      <td>208.000000</td>\n",
       "      <td>208.000000</td>\n",
       "    </tr>\n",
       "    <tr>\n",
       "      <th>mean</th>\n",
       "      <td>0.029164</td>\n",
       "      <td>0.038437</td>\n",
       "      <td>0.043832</td>\n",
       "      <td>0.053892</td>\n",
       "      <td>0.075202</td>\n",
       "      <td>0.104570</td>\n",
       "      <td>0.121747</td>\n",
       "      <td>0.134799</td>\n",
       "      <td>0.178003</td>\n",
       "      <td>0.208259</td>\n",
       "      <td>...</td>\n",
       "      <td>0.016069</td>\n",
       "      <td>0.013420</td>\n",
       "      <td>0.010709</td>\n",
       "      <td>0.010941</td>\n",
       "      <td>0.009290</td>\n",
       "      <td>0.008222</td>\n",
       "      <td>0.007820</td>\n",
       "      <td>0.007949</td>\n",
       "      <td>0.007941</td>\n",
       "      <td>0.006507</td>\n",
       "    </tr>\n",
       "    <tr>\n",
       "      <th>std</th>\n",
       "      <td>0.022991</td>\n",
       "      <td>0.032960</td>\n",
       "      <td>0.038428</td>\n",
       "      <td>0.046528</td>\n",
       "      <td>0.055552</td>\n",
       "      <td>0.059105</td>\n",
       "      <td>0.061788</td>\n",
       "      <td>0.085152</td>\n",
       "      <td>0.118387</td>\n",
       "      <td>0.134416</td>\n",
       "      <td>...</td>\n",
       "      <td>0.012008</td>\n",
       "      <td>0.009634</td>\n",
       "      <td>0.007060</td>\n",
       "      <td>0.007301</td>\n",
       "      <td>0.007088</td>\n",
       "      <td>0.005736</td>\n",
       "      <td>0.005785</td>\n",
       "      <td>0.006470</td>\n",
       "      <td>0.006181</td>\n",
       "      <td>0.005031</td>\n",
       "    </tr>\n",
       "    <tr>\n",
       "      <th>min</th>\n",
       "      <td>0.001500</td>\n",
       "      <td>0.000600</td>\n",
       "      <td>0.001500</td>\n",
       "      <td>0.005800</td>\n",
       "      <td>0.006700</td>\n",
       "      <td>0.010200</td>\n",
       "      <td>0.003300</td>\n",
       "      <td>0.005500</td>\n",
       "      <td>0.007500</td>\n",
       "      <td>0.011300</td>\n",
       "      <td>...</td>\n",
       "      <td>0.000000</td>\n",
       "      <td>0.000800</td>\n",
       "      <td>0.000500</td>\n",
       "      <td>0.001000</td>\n",
       "      <td>0.000600</td>\n",
       "      <td>0.000400</td>\n",
       "      <td>0.000300</td>\n",
       "      <td>0.000300</td>\n",
       "      <td>0.000100</td>\n",
       "      <td>0.000600</td>\n",
       "    </tr>\n",
       "    <tr>\n",
       "      <th>25%</th>\n",
       "      <td>0.013350</td>\n",
       "      <td>0.016450</td>\n",
       "      <td>0.018950</td>\n",
       "      <td>0.024375</td>\n",
       "      <td>0.038050</td>\n",
       "      <td>0.067025</td>\n",
       "      <td>0.080900</td>\n",
       "      <td>0.080425</td>\n",
       "      <td>0.097025</td>\n",
       "      <td>0.111275</td>\n",
       "      <td>...</td>\n",
       "      <td>0.008425</td>\n",
       "      <td>0.007275</td>\n",
       "      <td>0.005075</td>\n",
       "      <td>0.005375</td>\n",
       "      <td>0.004150</td>\n",
       "      <td>0.004400</td>\n",
       "      <td>0.003700</td>\n",
       "      <td>0.003600</td>\n",
       "      <td>0.003675</td>\n",
       "      <td>0.003100</td>\n",
       "    </tr>\n",
       "    <tr>\n",
       "      <th>50%</th>\n",
       "      <td>0.022800</td>\n",
       "      <td>0.030800</td>\n",
       "      <td>0.034300</td>\n",
       "      <td>0.044050</td>\n",
       "      <td>0.062500</td>\n",
       "      <td>0.092150</td>\n",
       "      <td>0.106950</td>\n",
       "      <td>0.112100</td>\n",
       "      <td>0.152250</td>\n",
       "      <td>0.182400</td>\n",
       "      <td>...</td>\n",
       "      <td>0.013900</td>\n",
       "      <td>0.011400</td>\n",
       "      <td>0.009550</td>\n",
       "      <td>0.009300</td>\n",
       "      <td>0.007500</td>\n",
       "      <td>0.006850</td>\n",
       "      <td>0.005950</td>\n",
       "      <td>0.005800</td>\n",
       "      <td>0.006400</td>\n",
       "      <td>0.005300</td>\n",
       "    </tr>\n",
       "    <tr>\n",
       "      <th>75%</th>\n",
       "      <td>0.035550</td>\n",
       "      <td>0.047950</td>\n",
       "      <td>0.057950</td>\n",
       "      <td>0.064500</td>\n",
       "      <td>0.100275</td>\n",
       "      <td>0.134125</td>\n",
       "      <td>0.154000</td>\n",
       "      <td>0.169600</td>\n",
       "      <td>0.233425</td>\n",
       "      <td>0.268700</td>\n",
       "      <td>...</td>\n",
       "      <td>0.020825</td>\n",
       "      <td>0.016725</td>\n",
       "      <td>0.014900</td>\n",
       "      <td>0.014500</td>\n",
       "      <td>0.012100</td>\n",
       "      <td>0.010575</td>\n",
       "      <td>0.010425</td>\n",
       "      <td>0.010350</td>\n",
       "      <td>0.010325</td>\n",
       "      <td>0.008525</td>\n",
       "    </tr>\n",
       "    <tr>\n",
       "      <th>max</th>\n",
       "      <td>0.137100</td>\n",
       "      <td>0.233900</td>\n",
       "      <td>0.305900</td>\n",
       "      <td>0.426400</td>\n",
       "      <td>0.401000</td>\n",
       "      <td>0.382300</td>\n",
       "      <td>0.372900</td>\n",
       "      <td>0.459000</td>\n",
       "      <td>0.682800</td>\n",
       "      <td>0.710600</td>\n",
       "      <td>...</td>\n",
       "      <td>0.100400</td>\n",
       "      <td>0.070900</td>\n",
       "      <td>0.039000</td>\n",
       "      <td>0.035200</td>\n",
       "      <td>0.044700</td>\n",
       "      <td>0.039400</td>\n",
       "      <td>0.035500</td>\n",
       "      <td>0.044000</td>\n",
       "      <td>0.036400</td>\n",
       "      <td>0.043900</td>\n",
       "    </tr>\n",
       "  </tbody>\n",
       "</table>\n",
       "<p>8 rows × 60 columns</p>\n",
       "</div>"
      ],
      "text/plain": [
       "               0           1           2           3           4           5   \\\n",
       "count  208.000000  208.000000  208.000000  208.000000  208.000000  208.000000   \n",
       "mean     0.029164    0.038437    0.043832    0.053892    0.075202    0.104570   \n",
       "std      0.022991    0.032960    0.038428    0.046528    0.055552    0.059105   \n",
       "min      0.001500    0.000600    0.001500    0.005800    0.006700    0.010200   \n",
       "25%      0.013350    0.016450    0.018950    0.024375    0.038050    0.067025   \n",
       "50%      0.022800    0.030800    0.034300    0.044050    0.062500    0.092150   \n",
       "75%      0.035550    0.047950    0.057950    0.064500    0.100275    0.134125   \n",
       "max      0.137100    0.233900    0.305900    0.426400    0.401000    0.382300   \n",
       "\n",
       "               6           7           8           9   ...          50  \\\n",
       "count  208.000000  208.000000  208.000000  208.000000  ...  208.000000   \n",
       "mean     0.121747    0.134799    0.178003    0.208259  ...    0.016069   \n",
       "std      0.061788    0.085152    0.118387    0.134416  ...    0.012008   \n",
       "min      0.003300    0.005500    0.007500    0.011300  ...    0.000000   \n",
       "25%      0.080900    0.080425    0.097025    0.111275  ...    0.008425   \n",
       "50%      0.106950    0.112100    0.152250    0.182400  ...    0.013900   \n",
       "75%      0.154000    0.169600    0.233425    0.268700  ...    0.020825   \n",
       "max      0.372900    0.459000    0.682800    0.710600  ...    0.100400   \n",
       "\n",
       "               51          52          53          54          55          56  \\\n",
       "count  208.000000  208.000000  208.000000  208.000000  208.000000  208.000000   \n",
       "mean     0.013420    0.010709    0.010941    0.009290    0.008222    0.007820   \n",
       "std      0.009634    0.007060    0.007301    0.007088    0.005736    0.005785   \n",
       "min      0.000800    0.000500    0.001000    0.000600    0.000400    0.000300   \n",
       "25%      0.007275    0.005075    0.005375    0.004150    0.004400    0.003700   \n",
       "50%      0.011400    0.009550    0.009300    0.007500    0.006850    0.005950   \n",
       "75%      0.016725    0.014900    0.014500    0.012100    0.010575    0.010425   \n",
       "max      0.070900    0.039000    0.035200    0.044700    0.039400    0.035500   \n",
       "\n",
       "               57          58          59  \n",
       "count  208.000000  208.000000  208.000000  \n",
       "mean     0.007949    0.007941    0.006507  \n",
       "std      0.006470    0.006181    0.005031  \n",
       "min      0.000300    0.000100    0.000600  \n",
       "25%      0.003600    0.003675    0.003100  \n",
       "50%      0.005800    0.006400    0.005300  \n",
       "75%      0.010350    0.010325    0.008525  \n",
       "max      0.044000    0.036400    0.043900  \n",
       "\n",
       "[8 rows x 60 columns]"
      ]
     },
     "execution_count": 10,
     "metadata": {},
     "output_type": "execute_result"
    }
   ],
   "source": [
    " sonar_data.describe()"
   ]
  },
  {
   "cell_type": "code",
   "execution_count": 11,
   "id": "223b017f",
   "metadata": {},
   "outputs": [],
   "source": [
    "# separating data and Labels\n",
    "X = sonar_data.drop(columns=60, axis=1)\n",
    "Y = sonar_data[60]"
   ]
  },
  {
   "cell_type": "code",
   "execution_count": 12,
   "id": "e74bfdab",
   "metadata": {},
   "outputs": [
    {
     "name": "stdout",
     "output_type": "stream",
     "text": [
      "         0       1       2       3       4       5       6       7       8   \\\n",
      "0    0.0200  0.0371  0.0428  0.0207  0.0954  0.0986  0.1539  0.1601  0.3109   \n",
      "1    0.0453  0.0523  0.0843  0.0689  0.1183  0.2583  0.2156  0.3481  0.3337   \n",
      "2    0.0262  0.0582  0.1099  0.1083  0.0974  0.2280  0.2431  0.3771  0.5598   \n",
      "3    0.0100  0.0171  0.0623  0.0205  0.0205  0.0368  0.1098  0.1276  0.0598   \n",
      "4    0.0762  0.0666  0.0481  0.0394  0.0590  0.0649  0.1209  0.2467  0.3564   \n",
      "..      ...     ...     ...     ...     ...     ...     ...     ...     ...   \n",
      "203  0.0187  0.0346  0.0168  0.0177  0.0393  0.1630  0.2028  0.1694  0.2328   \n",
      "204  0.0323  0.0101  0.0298  0.0564  0.0760  0.0958  0.0990  0.1018  0.1030   \n",
      "205  0.0522  0.0437  0.0180  0.0292  0.0351  0.1171  0.1257  0.1178  0.1258   \n",
      "206  0.0303  0.0353  0.0490  0.0608  0.0167  0.1354  0.1465  0.1123  0.1945   \n",
      "207  0.0260  0.0363  0.0136  0.0272  0.0214  0.0338  0.0655  0.1400  0.1843   \n",
      "\n",
      "         9   ...      50      51      52      53      54      55      56  \\\n",
      "0    0.2111  ...  0.0232  0.0027  0.0065  0.0159  0.0072  0.0167  0.0180   \n",
      "1    0.2872  ...  0.0125  0.0084  0.0089  0.0048  0.0094  0.0191  0.0140   \n",
      "2    0.6194  ...  0.0033  0.0232  0.0166  0.0095  0.0180  0.0244  0.0316   \n",
      "3    0.1264  ...  0.0241  0.0121  0.0036  0.0150  0.0085  0.0073  0.0050   \n",
      "4    0.4459  ...  0.0156  0.0031  0.0054  0.0105  0.0110  0.0015  0.0072   \n",
      "..      ...  ...     ...     ...     ...     ...     ...     ...     ...   \n",
      "203  0.2684  ...  0.0203  0.0116  0.0098  0.0199  0.0033  0.0101  0.0065   \n",
      "204  0.2154  ...  0.0051  0.0061  0.0093  0.0135  0.0063  0.0063  0.0034   \n",
      "205  0.2529  ...  0.0155  0.0160  0.0029  0.0051  0.0062  0.0089  0.0140   \n",
      "206  0.2354  ...  0.0042  0.0086  0.0046  0.0126  0.0036  0.0035  0.0034   \n",
      "207  0.2354  ...  0.0181  0.0146  0.0129  0.0047  0.0039  0.0061  0.0040   \n",
      "\n",
      "         57      58      59  \n",
      "0    0.0084  0.0090  0.0032  \n",
      "1    0.0049  0.0052  0.0044  \n",
      "2    0.0164  0.0095  0.0078  \n",
      "3    0.0044  0.0040  0.0117  \n",
      "4    0.0048  0.0107  0.0094  \n",
      "..      ...     ...     ...  \n",
      "203  0.0115  0.0193  0.0157  \n",
      "204  0.0032  0.0062  0.0067  \n",
      "205  0.0138  0.0077  0.0031  \n",
      "206  0.0079  0.0036  0.0048  \n",
      "207  0.0036  0.0061  0.0115  \n",
      "\n",
      "[208 rows x 60 columns]\n"
     ]
    }
   ],
   "source": [
    "print(X)"
   ]
  },
  {
   "cell_type": "code",
   "execution_count": 13,
   "id": "23595724",
   "metadata": {},
   "outputs": [
    {
     "name": "stdout",
     "output_type": "stream",
     "text": [
      "0      R\n",
      "1      R\n",
      "2      R\n",
      "3      R\n",
      "4      R\n",
      "      ..\n",
      "203    M\n",
      "204    M\n",
      "205    M\n",
      "206    M\n",
      "207    M\n",
      "Name: 60, Length: 208, dtype: object\n"
     ]
    }
   ],
   "source": [
    "print(Y)"
   ]
  },
  {
   "cell_type": "code",
   "execution_count": 14,
   "id": "2068390d",
   "metadata": {},
   "outputs": [],
   "source": [
    "sonar_data.rename(columns={60 : 'Target'}, inplace=True)"
   ]
  },
  {
   "cell_type": "code",
   "execution_count": 15,
   "id": "5472855b",
   "metadata": {},
   "outputs": [],
   "source": [
    "import seaborn as sns\n",
    "from matplotlib import pyplot as plt\n",
    "sns.set_style(\"darkgrid\")"
   ]
  },
  {
   "cell_type": "code",
   "execution_count": 16,
   "id": "f39f8aab",
   "metadata": {},
   "outputs": [
    {
     "data": {
      "image/png": "[encoded data removed]",
      "text/plain": [
       "<Figure size 1440x864 with 1 Axes>"
      ]
     },
     "metadata": {},
     "output_type": "display_data"
    }
   ],
   "source": [
    " #Count plot\n",
    "plt.figure(figsize=(20,12))\n",
    "plt.subplot(2,2,1)\n",
    "plt.title(\"CountPlot of the Target data\")\n",
    "sns.countplot(x='Target', data=sonar_data, palette='pastel')\n",
    "plt.show()"
   ]
  },
  {
   "cell_type": "code",
   "execution_count": 17,
   "id": "26928acb",
   "metadata": {},
   "outputs": [
    {
     "data": {
      "image/png": "[encoded data removed]",
      "text/plain": [
       "<Figure size 1440x864 with 1 Axes>"
      ]
     },
     "metadata": {},
     "output_type": "display_data"
    }
   ],
   "source": [
    " #Pie Chart\n",
    "plt.figure(figsize=(20,12))\n",
    "plt.subplot(1,2,2)\n",
    "Mine = sonar_data.Target[sonar_data.Target == 'M'].count()\n",
    "Rock = sonar_data.Target[sonar_data.Target == 'R'].count()\n",
    "plt.title(\"Distrbution of the Target Column in the data\", {\"fontsize\":20})\n",
    "plt.pie([Mine, Rock], labels=['Mine', 'Rock'], explode=[0.01,0.01], autopct='%.2f%%', colors=['lightblue', 'lightgreen'])\n",
    "plt.legend()\n",
    "plt.show()"
   ]
  },
  {
   "cell_type": "code",
   "execution_count": 18,
   "id": "a8834c7d",
   "metadata": {},
   "outputs": [
    {
     "data": {
      "image/png": "[encoded data removed]",
      "text/plain": [
       "<Figure size 1080x648 with 1 Axes>"
      ]
     },
     "metadata": {},
     "output_type": "display_data"
    }
   ],
   "source": [
    "#Frequency Bin\n",
    "plt.figure(figsize=(15,9))\n",
    "plt.plot(sonar_data[sonar_data['Target'] == 'R'].values[0][:-1], label='Rock', color='#084594')\n",
    "plt.plot(sonar_data[sonar_data['Target'] == 'M'].values[0][:-1], label='Mine', color='#1572A1', linestyle='--')\n",
    "plt.legend(fontsize=20)\n",
    "plt.title('Example of both classes',fontsize=20)\n",
    "plt.xlabel('Frequency bin',fontsize=20)\n",
    "plt.ylabel('Power spectral density (normalized)',fontsize=20)\n",
    "plt.tight_layout()\n",
    "plt.show()"
   ]
  },
  {
   "cell_type": "code",
   "execution_count": 19,
   "id": "a64cc8f3",
   "metadata": {},
   "outputs": [
    {
     "data": {
      "image/png": "[encoded data removed]",
      "text/plain": [
       "<Figure size 1080x1080 with 64 Axes>"
      ]
     },
     "metadata": {},
     "output_type": "display_data"
    }
   ],
   "source": [
    "#Histogram\n",
    "sonar_data.hist(sharex=False,sharey=False,xlabelsize=1,ylabelsize=1,\n",
    "figsize=(15,15))\n",
    "pyplot.show()"
   ]
  },
  {
   "cell_type": "code",
   "execution_count": 20,
   "id": "c380055d",
   "metadata": {},
   "outputs": [
    {
     "name": "stdout",
     "output_type": "stream",
     "text": [
      "          0         1         2         3         4         5         6   \\\n",
      "0   1.000000  0.735896  0.571537  0.491438  0.344797  0.238921  0.260815   \n",
      "1   0.735896  1.000000  0.779916  0.606684  0.419669  0.332329  0.279040   \n",
      "2   0.571537  0.779916  1.000000  0.781786  0.546141  0.346275  0.190434   \n",
      "3   0.491438  0.606684  0.781786  1.000000  0.726943  0.352805  0.246440   \n",
      "4   0.344797  0.419669  0.546141  0.726943  1.000000  0.597053  0.335422   \n",
      "5   0.238921  0.332329  0.346275  0.352805  0.597053  1.000000  0.702889   \n",
      "6   0.260815  0.279040  0.190434  0.246440  0.335422  0.702889  1.000000   \n",
      "7   0.355523  0.334615  0.237884  0.246742  0.204006  0.471683  0.675774   \n",
      "8   0.353420  0.316733  0.252691  0.247078  0.177906  0.327578  0.470580   \n",
      "9   0.318276  0.270782  0.219637  0.237769  0.183219  0.288621  0.425448   \n",
      "10  0.344058  0.297065  0.274610  0.271881  0.231684  0.333570  0.396588   \n",
      "11  0.210861  0.194102  0.214807  0.175381  0.211657  0.344451  0.274432   \n",
      "12  0.210722  0.249596  0.258767  0.215754  0.299086  0.411107  0.365391   \n",
      "13  0.256278  0.273170  0.291724  0.286708  0.359062  0.396233  0.409576   \n",
      "14  0.304878  0.307599  0.285663  0.278529  0.318059  0.367908  0.411692   \n",
      "15  0.239079  0.261844  0.237017  0.248245  0.328725  0.353783  0.363086   \n",
      "16  0.137845  0.152170  0.201093  0.223203  0.326477  0.293190  0.250024   \n",
      "17  0.041817  0.042870  0.120587  0.194992  0.299266  0.235778  0.208057   \n",
      "18  0.055227  0.040911  0.099303  0.189405  0.340543  0.226305  0.215495   \n",
      "19  0.156760  0.102428  0.103117  0.188317  0.285737  0.206841  0.196496   \n",
      "20  0.117663  0.075255  0.063990  0.142271  0.205088  0.174768  0.165827   \n",
      "21 -0.056973 -0.074157 -0.026815  0.036010  0.152897  0.123770  0.063773   \n",
      "22 -0.163426 -0.179365 -0.073400 -0.029749  0.073934  0.064081  0.009359   \n",
      "23 -0.218093 -0.196469 -0.085380 -0.102975 -0.000624  0.027026  0.011982   \n",
      "24 -0.295683 -0.295302 -0.214256 -0.206673 -0.067296 -0.043280 -0.057147   \n",
      "25 -0.342865 -0.365749 -0.291974 -0.291357 -0.125675 -0.100309 -0.126074   \n",
      "26 -0.341703 -0.337046 -0.263111 -0.294749 -0.169618 -0.129094 -0.179526   \n",
      "27 -0.224340 -0.234386 -0.256674 -0.256074 -0.214692 -0.118645 -0.116848   \n",
      "28 -0.199099 -0.228490 -0.290728 -0.300476 -0.283863 -0.156081 -0.129694   \n",
      "29 -0.077430 -0.115301 -0.197493 -0.236602 -0.273350 -0.151186 -0.068142   \n",
      "30 -0.048370 -0.055862 -0.106198 -0.190086 -0.214336 -0.054136 -0.096945   \n",
      "31 -0.030444 -0.049683 -0.109895 -0.169987 -0.173485 -0.051934 -0.115871   \n",
      "32 -0.031939 -0.108272 -0.170671 -0.164651 -0.200586 -0.144391 -0.127052   \n",
      "33  0.031319 -0.004247 -0.099409 -0.083965 -0.140559 -0.070337 -0.077662   \n",
      "34  0.098118  0.115824  0.017053  0.015200 -0.086529 -0.028815 -0.015531   \n",
      "35  0.080722  0.132611  0.053070  0.039282 -0.073481 -0.023621  0.002979   \n",
      "36  0.119565  0.169186  0.107530  0.063486 -0.064617 -0.064798 -0.001376   \n",
      "37  0.209873  0.217494  0.130276  0.089887 -0.008620 -0.048745  0.065900   \n",
      "38  0.208371  0.186828  0.110499  0.089346  0.063408  0.030599  0.080942   \n",
      "39  0.099993  0.098350  0.074137  0.045141  0.061616  0.081119  0.112673   \n",
      "40  0.127313  0.188226  0.189047  0.145241  0.098832  0.075797  0.041071   \n",
      "41  0.213592  0.261345  0.233442  0.144693  0.125181  0.048763 -0.028720   \n",
      "42  0.206057  0.186368  0.113920  0.050629  0.063706  0.034380 -0.025727   \n",
      "43  0.157949  0.133018  0.071946 -0.008407  0.031575  0.048870  0.061404   \n",
      "44  0.279968  0.285716  0.180734  0.087824  0.089202  0.085468  0.110813   \n",
      "45  0.319354  0.304247  0.173649  0.080012  0.081964  0.029524  0.076537   \n",
      "46  0.230343  0.255797  0.179528  0.046109  0.041419  0.016640  0.098925   \n",
      "47  0.203234  0.265279  0.234896  0.121065  0.084435  0.067196  0.155221   \n",
      "48  0.247560  0.313995  0.223074  0.133294  0.088128  0.080729  0.194720   \n",
      "49  0.269287  0.245868  0.081096  0.077925  0.066751  0.017300  0.166112   \n",
      "50  0.254450  0.320538  0.238110  0.174676  0.115936  0.171767  0.184152   \n",
      "51  0.355299  0.434548  0.394076  0.374651  0.266617  0.252288  0.144051   \n",
      "52  0.311729  0.346076  0.332914  0.364772  0.314985  0.162404  0.046403   \n",
      "53  0.322299  0.383960  0.367186  0.334211  0.205306  0.164073  0.163074   \n",
      "54  0.312067  0.380165  0.289731  0.284955  0.196472  0.133464  0.195541   \n",
      "55  0.220642  0.262263  0.287661  0.280938  0.199323  0.166758  0.174143   \n",
      "56  0.313725  0.280341  0.380819  0.340254  0.219395  0.161333  0.186324   \n",
      "57  0.368132  0.353042  0.334108  0.344865  0.238793  0.203986  0.242646   \n",
      "58  0.357116  0.352200  0.425047  0.420266  0.290982  0.220573  0.183578   \n",
      "59  0.347078  0.358761  0.373948  0.400626  0.253710  0.178158  0.222493   \n",
      "\n",
      "          7         8         9   ...        50        51        52        53  \\\n",
      "0   0.355523  0.353420  0.318276  ...  0.254450  0.355299  0.311729  0.322299   \n",
      "1   0.334615  0.316733  0.270782  ...  0.320538  0.434548  0.346076  0.383960   \n",
      "2   0.237884  0.252691  0.219637  ...  0.238110  0.394076  0.332914  0.367186   \n",
      "3   0.246742  0.247078  0.237769  ...  0.174676  0.374651  0.364772  0.334211   \n",
      "4   0.204006  0.177906  0.183219  ...  0.115936  0.266617  0.314985  0.205306   \n",
      "5   0.471683  0.327578  0.288621  ...  0.171767  0.252288  0.162404  0.164073   \n",
      "6   0.675774  0.470580  0.425448  ...  0.184152  0.144051  0.046403  0.163074   \n",
      "7   1.000000  0.778577  0.652525  ...  0.260692  0.219038  0.102447  0.234008   \n",
      "8   0.778577  1.000000  0.877131  ...  0.174873  0.207996  0.105352  0.202615   \n",
      "9   0.652525  0.877131  1.000000  ...  0.167096  0.165537  0.097544  0.146725   \n",
      "10  0.584583  0.728063  0.853140  ...  0.157615  0.165748  0.084801  0.142572   \n",
      "11  0.328329  0.363404  0.485392  ...  0.113418  0.117699  0.042263  0.078457   \n",
      "12  0.322951  0.316899  0.405370  ...  0.203347  0.147479  0.058599  0.160916   \n",
      "13  0.387114  0.329659  0.345684  ...  0.180464  0.137443  0.133196  0.210925   \n",
      "14  0.391514  0.299575  0.294699  ...  0.153162  0.135271  0.103444  0.218703   \n",
      "15  0.322237  0.241819  0.242869  ...  0.099892  0.104039  0.096325  0.206922   \n",
      "16  0.140912  0.100146  0.121264  ...  0.009036  0.020313  0.035635  0.129138   \n",
      "17  0.061333  0.027380  0.063745  ... -0.104656 -0.057236 -0.006627  0.072344   \n",
      "18  0.061825  0.067237  0.099632  ... -0.050988  0.011450  0.051367  0.120153   \n",
      "19  0.204950  0.266455  0.246924  ... -0.022960  0.028754  0.069692  0.171936   \n",
      "20  0.208785  0.264109  0.240862  ... -0.024222 -0.034845 -0.000270  0.167327   \n",
      "21  0.023786  0.019512  0.070381  ... -0.061054 -0.092204 -0.094203  0.045224   \n",
      "22 -0.092087 -0.154752 -0.094887  ... -0.108172 -0.108934 -0.152691 -0.055641   \n",
      "23 -0.124427 -0.189343 -0.178304  ... -0.143650 -0.175022 -0.225897 -0.125419   \n",
      "24 -0.196354 -0.198658 -0.179890  ... -0.200752 -0.250479 -0.238478 -0.219817   \n",
      "25 -0.203178 -0.137459 -0.109051  ... -0.191554 -0.256166 -0.248400 -0.277169   \n",
      "26 -0.233332 -0.119143 -0.095820  ... -0.137886 -0.191707 -0.259825 -0.269558   \n",
      "27 -0.120343 -0.028002 -0.052303  ... -0.027750 -0.064730 -0.148791 -0.213300   \n",
      "28 -0.139750 -0.093413 -0.137173  ... -0.000251 -0.054779 -0.130527 -0.235110   \n",
      "29 -0.017654  0.053398 -0.043998  ...  0.038928  0.039053 -0.034937 -0.149564   \n",
      "30 -0.081072 -0.041649 -0.091193  ...  0.048936  0.087360  0.026300 -0.146485   \n",
      "31 -0.108115 -0.028629 -0.058493  ...  0.059594  0.090863  0.017997 -0.089302   \n",
      "32 -0.087246 -0.017885 -0.027245  ... -0.002591  0.003084  0.029192 -0.037753   \n",
      "33 -0.014578  0.013594 -0.021291  ...  0.003386  0.008364  0.095110  0.064450   \n",
      "34  0.035733  0.015065 -0.035765  ...  0.018382  0.052650  0.122798  0.138357   \n",
      "35  0.087187  0.036120 -0.004460  ...  0.006165  0.023165  0.072182  0.136711   \n",
      "36  0.110739  0.111769  0.085072  ... -0.028291  0.002078  0.079799  0.130427   \n",
      "37  0.186609  0.223983  0.175717  ...  0.094205  0.134015  0.171104  0.206931   \n",
      "38  0.206145  0.211897  0.233833  ...  0.124038  0.108564  0.167599  0.200116   \n",
      "39  0.184411  0.122735  0.177357  ...  0.066673  0.042677  0.128310  0.121381   \n",
      "40  0.097517  0.019589 -0.002523  ...  0.277471  0.255774  0.254064  0.181579   \n",
      "41  0.076054 -0.005785 -0.018880  ...  0.428751  0.359439  0.283622  0.214580   \n",
      "42  0.114721  0.052409  0.076138  ...  0.397190  0.302861  0.253203  0.155339   \n",
      "43  0.135426  0.215710  0.216742  ...  0.316501  0.217849  0.139544  0.095210   \n",
      "44  0.240176  0.320573  0.287459  ...  0.416973  0.350208  0.181292  0.162879   \n",
      "45  0.169099  0.195447  0.138447  ...  0.505304  0.429309  0.236971  0.187964   \n",
      "46  0.109744  0.084191  0.090662  ...  0.570575  0.398600  0.206970  0.159920   \n",
      "47  0.222783  0.225667  0.268123  ...  0.573572  0.365149  0.206376  0.209084   \n",
      "48  0.271422  0.222135  0.264885  ...  0.526095  0.319286  0.150871  0.195826   \n",
      "49  0.191615  0.150527  0.162010  ...  0.447926  0.341667  0.279681  0.280477   \n",
      "50  0.260692  0.174873  0.167096  ...  1.000000  0.627038  0.330396  0.384052   \n",
      "51  0.219038  0.207996  0.165537  ...  0.627038  1.000000  0.540414  0.343190   \n",
      "52  0.102447  0.105352  0.097544  ...  0.330396  0.540414  1.000000  0.412337   \n",
      "53  0.234008  0.202615  0.146725  ...  0.384052  0.343190  0.412337  1.000000   \n",
      "54  0.239551  0.179342  0.175254  ...  0.278935  0.337581  0.315656  0.455059   \n",
      "55  0.276819  0.232764  0.151889  ...  0.209752  0.203121  0.421588  0.397378   \n",
      "56  0.267212  0.193963  0.140327  ...  0.191407  0.191264  0.308197  0.361443   \n",
      "57  0.287603  0.231745  0.212277  ...  0.325665  0.309673  0.370764  0.404117   \n",
      "58  0.194400  0.097293  0.058273  ...  0.317942  0.298711  0.346095  0.447118   \n",
      "59  0.146216  0.095243  0.097358  ...  0.246764  0.195379  0.280780  0.283471   \n",
      "\n",
      "          54        55        56        57        58        59  \n",
      "0   0.312067  0.220642  0.313725  0.368132  0.357116  0.347078  \n",
      "1   0.380165  0.262263  0.280341  0.353042  0.352200  0.358761  \n",
      "2   0.289731  0.287661  0.380819  0.334108  0.425047  0.373948  \n",
      "3   0.284955  0.280938  0.340254  0.344865  0.420266  0.400626  \n",
      "4   0.196472  0.199323  0.219395  0.238793  0.290982  0.253710  \n",
      "5   0.133464  0.166758  0.161333  0.203986  0.220573  0.178158  \n",
      "6   0.195541  0.174143  0.186324  0.242646  0.183578  0.222493  \n",
      "7   0.239551  0.276819  0.267212  0.287603  0.194400  0.146216  \n",
      "8   0.179342  0.232764  0.193963  0.231745  0.097293  0.095243  \n",
      "9   0.175254  0.151889  0.140327  0.212277  0.058273  0.097358  \n",
      "10  0.228991  0.122332  0.103405  0.193358  0.067726  0.089695  \n",
      "11  0.164590  0.115658  0.030732  0.065273  0.044614  0.071364  \n",
      "12  0.272492  0.183743  0.057870  0.171140  0.151804  0.061411  \n",
      "13  0.326821  0.252166  0.190886  0.258675  0.209122  0.120966  \n",
      "14  0.261822  0.218395  0.202511  0.225545  0.193671  0.171089  \n",
      "15  0.240968  0.215478  0.191736  0.198019  0.182337  0.158438  \n",
      "16  0.168460  0.128968  0.145708  0.148563  0.121800  0.093992  \n",
      "17  0.093767  0.080812  0.056930  0.096022  0.028446  0.046617  \n",
      "18  0.099082  0.121331  0.045204  0.138365  0.023019  0.007468  \n",
      "19  0.157272  0.178498  0.066425  0.132453 -0.005364 -0.028540  \n",
      "20  0.059823  0.139089  0.030943  0.079818 -0.049413 -0.025201  \n",
      "21 -0.119720 -0.030877 -0.069909 -0.035829 -0.143209 -0.085696  \n",
      "22 -0.198577 -0.138900 -0.098291 -0.105235 -0.168149 -0.163696  \n",
      "23 -0.229297 -0.178320 -0.117429 -0.210556 -0.186527 -0.190877  \n",
      "24 -0.276419 -0.187789 -0.157967 -0.270222 -0.303155 -0.253233  \n",
      "25 -0.353657 -0.215894 -0.254240 -0.303427 -0.385725 -0.303949  \n",
      "26 -0.347931 -0.263403 -0.267069 -0.321868 -0.360340 -0.267596  \n",
      "27 -0.262620 -0.198093 -0.190854 -0.261443 -0.275442 -0.195130  \n",
      "28 -0.246181 -0.221273 -0.228155 -0.267938 -0.247318 -0.203776  \n",
      "29 -0.127523 -0.063403 -0.072976 -0.134302 -0.129402 -0.076100  \n",
      "30 -0.080546 -0.067373 -0.018733 -0.036092 -0.044197 -0.043015  \n",
      "31 -0.012792  0.017714  0.010611  0.018564  0.013499 -0.023863  \n",
      "32  0.000520  0.030027  0.045806  0.003712  0.054285 -0.015804  \n",
      "33  0.089024  0.109288  0.106959  0.083192  0.138214  0.075686  \n",
      "34  0.110776  0.131490  0.168361  0.143897  0.227783  0.191193  \n",
      "35  0.074314  0.069959  0.189471  0.106275  0.222683  0.176982  \n",
      "36  0.086914  0.116549  0.180789  0.110760  0.163162  0.166263  \n",
      "37  0.235457  0.217587  0.156320  0.169710  0.206001  0.233288  \n",
      "38  0.294578  0.223133  0.143131  0.218912  0.231150  0.222611  \n",
      "39  0.157435  0.150700  0.105603  0.143718  0.189058  0.202034  \n",
      "40  0.177851  0.220670  0.193532  0.196282  0.304521  0.281889  \n",
      "41  0.175505  0.157192  0.157646  0.201077  0.276762  0.220597  \n",
      "42  0.097671  0.123574  0.104120  0.210814  0.199334  0.161416  \n",
      "43  0.097255  0.133169  0.108185  0.109166  0.154547  0.108190  \n",
      "44  0.242757  0.170750  0.144281  0.167337  0.178402  0.157181  \n",
      "45  0.269119  0.178182  0.162125  0.237890  0.205291  0.180691  \n",
      "46  0.194223  0.146042  0.157815  0.240471  0.209045  0.139727  \n",
      "47  0.210950  0.219052  0.196814  0.270198  0.221425  0.123666  \n",
      "48  0.230033  0.155186  0.173098  0.328238  0.209152  0.088640  \n",
      "49  0.287612  0.235053  0.201609  0.342866  0.178118  0.139944  \n",
      "50  0.278935  0.209752  0.191407  0.325665  0.317942  0.246764  \n",
      "51  0.337581  0.203121  0.191264  0.309673  0.298711  0.195379  \n",
      "52  0.315656  0.421588  0.308197  0.370764  0.346095  0.280780  \n",
      "53  0.455059  0.397378  0.361443  0.404117  0.447118  0.283471  \n",
      "54  1.000000  0.429948  0.387204  0.503465  0.453658  0.264399  \n",
      "55  0.429948  1.000000  0.515154  0.463659  0.430804  0.349449  \n",
      "56  0.387204  0.515154  1.000000  0.509805  0.431295  0.287219  \n",
      "57  0.503465  0.463659  0.509805  1.000000  0.550235  0.329827  \n",
      "58  0.453658  0.430804  0.431295  0.550235  1.000000  0.642872  \n",
      "59  0.264399  0.349449  0.287219  0.329827  0.642872  1.000000  \n",
      "\n",
      "[60 rows x 60 columns]\n"
     ]
    }
   ],
   "source": [
    "#Correlation\n",
    "corr = sonar_data.corr()\n",
    "print(corr)"
   ]
  },
  {
   "cell_type": "code",
   "execution_count": 21,
   "id": "5e00c50b",
   "metadata": {},
   "outputs": [
    {
     "data": {
      "text/plain": [
       "<AxesSubplot:>"
      ]
     },
     "execution_count": 21,
     "metadata": {},
     "output_type": "execute_result"
    },
    {
     "data": {
      "image/png": "[encoded data removed]",
      "text/plain": [
       "<Figure size 720x648 with 2 Axes>"
      ]
     },
     "metadata": {},
     "output_type": "display_data"
    }
   ],
   "source": [
    "#Heatmap\n",
    "plt.figure(figsize=(10,9))\n",
    "sns.heatmap(corr, cmap=\"Blues\")"
   ]
  },
  {
   "cell_type": "code",
   "execution_count": 22,
   "id": "8ebca9fd",
   "metadata": {},
   "outputs": [],
   "source": [
    "from sklearn.linear_model import LogisticRegression  #regression algo\n",
    "from sklearn.neighbors import KNeighborsClassifier   #Instance based algo\n",
    "from sklearn.naive_bayes import GaussianNB           #bayesian algo\n",
    "from sklearn.tree import DecisionTreeClassifier \n",
    "from sklearn.svm import SVC                           #Instance based algo\n",
    "from sklearn.model_selection import train_test_split\n",
    "from sklearn.metrics import classification_report\n",
    "from sklearn.metrics import accuracy_score"
   ]
  },
  {
   "cell_type": "code",
   "execution_count": 23,
   "id": "897c3fa2",
   "metadata": {},
   "outputs": [
    {
     "name": "stdout",
     "output_type": "stream",
     "text": [
      "The accuracy of model KNeighborsClassifier is 0.81\n",
      "The accuracy of model SVC is 0.81\n",
      "The accuracy of model LogisticRegression is 0.76\n",
      "The accuracy of model DecisionTreeClassifier is 0.67\n",
      "The accuracy of model GaussianNB is 0.62\n"
     ]
    }
   ],
   "source": [
    "# separating data into training and test\n",
    "X_train, X_test, Y_train, Y_test = train_test_split(X, Y, test_size = 0.1, stratify=Y, random_state=1)\n",
    "# first, initialize the classificators\n",
    "tree= DecisionTreeClassifier(random_state=24) # using the random state for reproducibility\n",
    "knc= KNeighborsClassifier()\n",
    "svm= SVC(random_state=24)\n",
    "logistic= LogisticRegression(random_state=24)\n",
    "gnb=GaussianNB()\n",
    "# now, create a list with the objects \n",
    "accmodels= [knc,svm,logistic,tree,gnb]\n",
    "for model in accmodels:\n",
    "    model.fit(X_train, Y_train) # fit the model\n",
    "    y_pred= model.predict(X_test) # then predict on the test set\n",
    "    accuracy= accuracy_score(Y_test, y_pred) # this gives us how often the algorithm predicted correctly\n",
    "    clf_report= classification_report(Y_test, y_pred) # with the report, we have a bigger picture, with precision and recall for each class\n",
    "    print(f\"The accuracy of model {type(model).__name__} is {accuracy:.2f}\")"
   ]
  },
  {
   "cell_type": "markdown",
   "id": "ec676fe1",
   "metadata": {},
   "source": [
    "KNN ALgorithm"
   ]
  },
  {
   "cell_type": "code",
   "execution_count": 24,
   "id": "fc528636",
   "metadata": {},
   "outputs": [],
   "source": [
    "import sklearn\n",
    "from sklearn.preprocessing import LabelEncoder\n",
    "from sklearn.metrics import confusion_matrix"
   ]
  },
  {
   "cell_type": "code",
   "execution_count": 25,
   "id": "8e3d2cc4",
   "metadata": {},
   "outputs": [],
   "source": [
    "sonar_data=pd.read_csv(r\"C:\\Users\\chcha\\Desktop\\Projects\\Sonar\\sonar.csv\")"
   ]
  },
  {
   "cell_type": "markdown",
   "id": "8aef2835",
   "metadata": {},
   "source": [
    "Declare Feature vector and Target variable"
   ]
  },
  {
   "cell_type": "code",
   "execution_count": 26,
   "id": "80453d4e",
   "metadata": {},
   "outputs": [],
   "source": [
    "K = sonar_data.values[:,0:-1].astype(float)"
   ]
  },
  {
   "cell_type": "code",
   "execution_count": 27,
   "id": "00a243b5",
   "metadata": {},
   "outputs": [],
   "source": [
    "le = LabelEncoder()"
   ]
  },
  {
   "cell_type": "code",
   "execution_count": 28,
   "id": "b9613181",
   "metadata": {},
   "outputs": [],
   "source": [
    "target = sonar_data.R"
   ]
  },
  {
   "cell_type": "code",
   "execution_count": 29,
   "id": "10a8f55c",
   "metadata": {},
   "outputs": [],
   "source": [
    "le = LabelEncoder.fit(le, y = [\"R\", \"M\"])\n",
    "N = le.transform(target)"
   ]
  },
  {
   "cell_type": "markdown",
   "id": "07bad6c3",
   "metadata": {},
   "source": [
    "Split data into training and test set"
   ]
  },
  {
   "cell_type": "code",
   "execution_count": 30,
   "id": "482f41b1",
   "metadata": {},
   "outputs": [],
   "source": [
    "K_train, K_test, N_train, N_test = train_test_split(K, N, test_size = 0.3, random_state = 0)"
   ]
  },
  {
   "cell_type": "code",
   "execution_count": 31,
   "id": "45dc6b28",
   "metadata": {},
   "outputs": [
    {
     "name": "stdout",
     "output_type": "stream",
     "text": [
      "[[0.0086 0.0215 0.0242 ... 0.005  0.0024 0.003 ]\n",
      " [0.0201 0.0026 0.0138 ... 0.0024 0.0057 0.0044]\n",
      " [0.0084 0.0153 0.0291 ... 0.0031 0.0072 0.0045]\n",
      " ...\n",
      " [0.0363 0.0478 0.0298 ... 0.0114 0.0073 0.0033]\n",
      " [0.019  0.0038 0.0642 ... 0.0022 0.0055 0.0122]\n",
      " [0.0329 0.0216 0.0386 ... 0.0042 0.0053 0.0074]]\n"
     ]
    }
   ],
   "source": [
    "print(K_train)"
   ]
  },
  {
   "cell_type": "code",
   "execution_count": 32,
   "id": "2455af38",
   "metadata": {},
   "outputs": [
    {
     "name": "stdout",
     "output_type": "stream",
     "text": [
      "[1 1 1 1 1 0 1 1 0 0 1 0 1 0 0 0 0 0 0 0 0 1 1 0 0 1 1 0 0 0 1 1 1 0 0 1 1\n",
      " 0 1 0 0 0 0 0 1 1 0 0 0 1 0 1 1 0 1 1 0 1 1 1 1 1 0 1 0 1 1 0 0 0 1 1 1 0\n",
      " 0 0 0 1 0 1 0 0 1 1 1 1 0 0 1 0 0 0 1 1 0 1 0 0 1 1 0 0 0 1 0 0 0 1 0 0 0\n",
      " 0 1 0 1 0 1 0 0 0 1 1 1 0 1 0 0 0 1 1 0 1 1 1 1 1 1 0 0 1 0 0 1 0]\n"
     ]
    }
   ],
   "source": [
    "print(N_train)"
   ]
  },
  {
   "cell_type": "code",
   "execution_count": 33,
   "id": "a9c48a88",
   "metadata": {},
   "outputs": [],
   "source": [
    "test_scores = []\n",
    "train_scores = []\n",
    "for i in range(1,15):\n",
    "     knn= KNeighborsClassifier(i)\n",
    "     knn.fit(K_train,N_train) \n",
    "     train_scores.append(knn.score(K_train,N_train))\n",
    "     test_scores.append(knn.score(K_test,N_test))"
   ]
  },
  {
   "cell_type": "code",
   "execution_count": 34,
   "id": "17671adc",
   "metadata": {},
   "outputs": [
    {
     "name": "stderr",
     "output_type": "stream",
     "text": [
      "C:\\Users\\chcha\\anaconda3\\lib\\site-packages\\seaborn\\_decorators.py:36: FutureWarning: Pass the following variables as keyword args: x, y. From version 0.12, the only valid positional argument will be `data`, and passing other arguments without an explicit keyword will result in an error or misinterpretation.\n",
      "  warnings.warn(\n",
      "C:\\Users\\chcha\\anaconda3\\lib\\site-packages\\seaborn\\_decorators.py:36: FutureWarning: Pass the following variables as keyword args: x, y. From version 0.12, the only valid positional argument will be `data`, and passing other arguments without an explicit keyword will result in an error or misinterpretation.\n",
      "  warnings.warn(\n"
     ]
    },
    {
     "data": {
      "image/png": "[encoded data removed]",
      "text/plain": [
       "<Figure size 1440x648 with 1 Axes>"
      ]
     },
     "metadata": {},
     "output_type": "display_data"
    }
   ],
   "source": [
    "plt.figure(figsize=(20,9))\n",
    "p = sns.lineplot(range(1,15),train_scores,marker='*',label='Train Score')\n",
    "p = sns.lineplot(range(1,15),test_scores,marker='o',label='Test Score')"
   ]
  },
  {
   "cell_type": "code",
   "execution_count": 35,
   "id": "b3e6a938",
   "metadata": {},
   "outputs": [
    {
     "name": "stdout",
     "output_type": "stream",
     "text": [
      "Max train score 100.0 % and k = [1]\n"
     ]
    }
   ],
   "source": [
    "## score that comes from testing on the same datapoints that were used for training\n",
    "max_train_score = max(train_scores)\n",
    "train_scores_ind = [i for i, v in enumerate(train_scores) if v == max_train_score]\n",
    "print('Max train score {} % and k = {}'.format(max_train_score*100,list(map(lambda x: x+1, train_scores_ind))))"
   ]
  },
  {
   "cell_type": "code",
   "execution_count": 36,
   "id": "cb31e005",
   "metadata": {},
   "outputs": [
    {
     "name": "stdout",
     "output_type": "stream",
     "text": [
      "Max test score 82.53968253968253 % and k = [3]\n"
     ]
    }
   ],
   "source": [
    "## score that comes from testing on the datapoints that were split in the beginning to be used for testing solely\n",
    "max_test_score = max(test_scores)\n",
    "test_scores_ind = [i for i, v in enumerate(test_scores) if v == \n",
    "max_test_score]\n",
    "print('Max test score {} % and k = {}'.format(max_test_score*100,list(map(lambda x: x+1, test_scores_ind))))"
   ]
  },
  {
   "cell_type": "code",
   "execution_count": 37,
   "id": "426470e0",
   "metadata": {},
   "outputs": [
    {
     "name": "stdout",
     "output_type": "stream",
     "text": [
      "KNeighborsClassifier(n_neighbors=3)\n"
     ]
    },
    {
     "data": {
      "text/plain": [
       "0.5873015873015873"
      ]
     },
     "execution_count": 37,
     "metadata": {},
     "output_type": "execute_result"
    }
   ],
   "source": [
    "clf = KNeighborsClassifier(n_neighbors=3, p = 2)\n",
    "# Fit the model\n",
    "print(clf.fit(K_train, N_train))\n",
    "knn.score(K_test,N_test)"
   ]
  },
  {
   "cell_type": "code",
   "execution_count": 38,
   "id": "918cd6dd",
   "metadata": {},
   "outputs": [
    {
     "name": "stdout",
     "output_type": "stream",
     "text": [
      "Training set score: 0.7222\n",
      "Test set score: 0.5873\n"
     ]
    }
   ],
   "source": [
    "print('Training set score: {:.4f}'.format(knn.score(K_train, N_train)))\n",
    "print('Test set score: {:.4f}'.format(knn.score(K_test, N_test)))"
   ]
  },
  {
   "cell_type": "markdown",
   "id": "8f60bb75",
   "metadata": {},
   "source": [
    "Confusion Matrix"
   ]
  },
  {
   "cell_type": "code",
   "execution_count": 39,
   "id": "ab15554b",
   "metadata": {},
   "outputs": [
    {
     "data": {
      "text/html": [
       "<div>\n",
       "<style scoped>\n",
       "    .dataframe tbody tr th:only-of-type {\n",
       "        vertical-align: middle;\n",
       "    }\n",
       "\n",
       "    .dataframe tbody tr th {\n",
       "        vertical-align: top;\n",
       "    }\n",
       "\n",
       "    .dataframe thead th {\n",
       "        text-align: right;\n",
       "    }\n",
       "</style>\n",
       "<table border=\"1\" class=\"dataframe\">\n",
       "  <thead>\n",
       "    <tr style=\"text-align: right;\">\n",
       "      <th>Predicted</th>\n",
       "      <th>0</th>\n",
       "      <th>1</th>\n",
       "      <th>All</th>\n",
       "    </tr>\n",
       "    <tr>\n",
       "      <th>True</th>\n",
       "      <th></th>\n",
       "      <th></th>\n",
       "      <th></th>\n",
       "    </tr>\n",
       "  </thead>\n",
       "  <tbody>\n",
       "    <tr>\n",
       "      <th>0</th>\n",
       "      <td>28</td>\n",
       "      <td>7</td>\n",
       "      <td>35</td>\n",
       "    </tr>\n",
       "    <tr>\n",
       "      <th>1</th>\n",
       "      <td>19</td>\n",
       "      <td>9</td>\n",
       "      <td>28</td>\n",
       "    </tr>\n",
       "    <tr>\n",
       "      <th>All</th>\n",
       "      <td>47</td>\n",
       "      <td>16</td>\n",
       "      <td>63</td>\n",
       "    </tr>\n",
       "  </tbody>\n",
       "</table>\n",
       "</div>"
      ],
      "text/plain": [
       "Predicted   0   1  All\n",
       "True                  \n",
       "0          28   7   35\n",
       "1          19   9   28\n",
       "All        47  16   63"
      ]
     },
     "execution_count": 39,
     "metadata": {},
     "output_type": "execute_result"
    }
   ],
   "source": [
    "#let us get the predictions using the classifier we had fit above\n",
    "N_pred = knn.predict(K_test)\n",
    "confusion_matrix(N_test,N_pred)\n",
    "pd.crosstab(N_test, N_pred, rownames=['True'], colnames=['Predicted'], margins=True)"
   ]
  },
  {
   "cell_type": "code",
   "execution_count": 40,
   "id": "c74174fb",
   "metadata": {},
   "outputs": [
    {
     "name": "stdout",
     "output_type": "stream",
     "text": [
      "Confusion matrix\n",
      " [[28  7]\n",
      " [19  9]]\n",
      "True Positives(TP) =  28\n",
      "True Negatives(TN) =  9\n",
      "False Positives(FP) =  7\n",
      "False Negatives(FN) =  19\n"
     ]
    }
   ],
   "source": [
    "N_pred_test=knn.predict(K_test)\n",
    "kcm = confusion_matrix(N_test, N_pred_test)\n",
    "print('Confusion matrix\\n', kcm)\n",
    "print('True Positives(TP) = ', kcm[0,0])\n",
    "print('True Negatives(TN) = ', kcm[1,1])\n",
    "print('False Positives(FP) = ', kcm[0,1])\n",
    "print('False Negatives(FN) = ', kcm[1,0])"
   ]
  },
  {
   "cell_type": "code",
   "execution_count": 41,
   "id": "63e42a4f",
   "metadata": {},
   "outputs": [
    {
     "data": {
      "text/plain": [
       "<AxesSubplot:>"
      ]
     },
     "execution_count": 41,
     "metadata": {},
     "output_type": "execute_result"
    },
    {
     "data": {
      "image/png": "[encoded data removed]",
      "text/plain": [
       "<Figure size 432x288 with 2 Axes>"
      ]
     },
     "metadata": {},
     "output_type": "display_data"
    }
   ],
   "source": [
    "kcm_matrix = pd.DataFrame(data=kcm, columns=['Actual Positive:1', 'Actual Negative:0'], index=['Predict Positive:1', 'Predict Negative:0'])\n",
    "sns.heatmap(kcm_matrix, annot=True, fmt='d', cmap='Blues')"
   ]
  },
  {
   "cell_type": "markdown",
   "id": "62e3a77d",
   "metadata": {},
   "source": [
    "Classification Metrices"
   ]
  },
  {
   "cell_type": "code",
   "execution_count": 42,
   "id": "880a87b8",
   "metadata": {},
   "outputs": [],
   "source": [
    "TP = kcm[0,0]\n",
    "TN = kcm[1,1]\n",
    "FP = kcm[0,1]\n",
    "FN = kcm[1,0]"
   ]
  },
  {
   "cell_type": "code",
   "execution_count": 43,
   "id": "f674156e",
   "metadata": {},
   "outputs": [
    {
     "name": "stdout",
     "output_type": "stream",
     "text": [
      "Classification Error : 0.4127\n"
     ]
    }
   ],
   "source": [
    "classification_error = (FP + FN) / float(TP + TN + FP + FN)\n",
    "print('Classification Error : {0:0.4f}'.format(classification_error))"
   ]
  },
  {
   "cell_type": "code",
   "execution_count": 44,
   "id": "18019b9a",
   "metadata": {},
   "outputs": [
    {
     "name": "stdout",
     "output_type": "stream",
     "text": [
      "Classification Precision : 0.8000\n"
     ]
    }
   ],
   "source": [
    "# print precision score\n",
    "precision = TP / float(TP + FP)\n",
    "print('Classification Precision : {0:0.4f}'.format(precision))"
   ]
  },
  {
   "cell_type": "code",
   "execution_count": 45,
   "id": "e8641f03",
   "metadata": {},
   "outputs": [
    {
     "name": "stdout",
     "output_type": "stream",
     "text": [
      "[0]\n",
      "The object is Mine\n"
     ]
    }
   ],
   "source": [
    "#prediction model\n",
    "input_data = (0.0307,0.0523,0.0653,0.0521,0.0611,0.0577,0.0665,0.0664,0.1460,0.2792,0.3877,0.4992,0.4981,0.4972,0.5607,0.7339,0.8230,0.9173,0.9975,0.9911,0.8240,0.6498,0.5980,0.4862,0.3150,0.1543,0.0989,0.0284,0.1008,0.2636,0.2694,0.2930,0.2925,0.3998,0.3660,0.3172,0.4609,0.4374,0.1820,0.3376,0.6202,0.4448,0.1863,0.1420,0.0589,0.0576,0.0672,0.0269,0.0245,0.0190,0.0063,0.0321,0.0189,0.0137,0.0277,0.0152,0.0052,0.0121,0.0124,0.0055)\n",
    "# changing the input_data to a numpy array\n",
    "input_data_as_numpy_array = np.asarray(input_data)\n",
    "# reshape the np array as we are predicting for one instance\n",
    "input_data_reshaped = input_data_as_numpy_array.reshape(1,-1)\n",
    "prediction = knn.predict(input_data_reshaped)\n",
    "print(prediction)\n",
    "if (prediction==0):\n",
    "    print(\"The object is Mine\")\n",
    "else :\n",
    "    print(\"The object is Rock\")"
   ]
  },
  {
   "cell_type": "code",
   "execution_count": 46,
   "id": "a61edfae",
   "metadata": {},
   "outputs": [
    {
     "name": "stdout",
     "output_type": "stream",
     "text": [
      "[1]\n",
      "The object is Rock\n"
     ]
    }
   ],
   "source": [
    "input_data = (0.0181,0.0146,0.0026,0.0141,0.0421,0.0473,0.0361,0.0741,0.1398,0.1045,0.0904,0.0671,0.0997,0.1056,0.0346,0.1231,0.1626,0.3652,0.3262,0.2995,0.2109,0.2104,0.2085,0.2282,0.0747,0.1969,0.4086,0.6385,0.797,0.7508,0.5517,0.2214,0.4672,0.4479,0.2297,0.3235,0.448,0.5581,0.652,0.5354,0.2478,0.2268,0.1788,0.0898,0.0536,0.0374,0.099,0.0956,0.0317,0.0142,0.0076,0.0223,0.0255,0.0145,0.0233,0.0041,0.0018,0.0048,0.0089,0.0085)\n",
    "# changing the input_data to a numpy array\n",
    "input_data_as_numpy_array = np.asarray(input_data)\n",
    "# reshape the np array as we are predicting for one instance\n",
    "input_data_reshaped = input_data_as_numpy_array.reshape(1,-1)\n",
    "prediction = knn.predict(input_data_reshaped)\n",
    "print(prediction)\n",
    "if (prediction==0):\n",
    "    print(\"The object is Mine\")\n",
    "else :\n",
    "    print(\"The object is Rock\")"
   ]
  },
  {
   "cell_type": "markdown",
   "id": "c6eeb6f3",
   "metadata": {},
   "source": [
    "Support Vector Machine "
   ]
  },
  {
   "cell_type": "code",
   "execution_count": 47,
   "id": "5f36f696",
   "metadata": {},
   "outputs": [],
   "source": [
    "from pandas import read_csv, set_option\n",
    "from sklearn.preprocessing import StandardScaler\n",
    "from sklearn.model_selection import train_test_split, KFold, cross_val_score, GridSearchCV"
   ]
  },
  {
   "cell_type": "markdown",
   "id": "7f0c34fb",
   "metadata": {},
   "source": [
    "Declare Feature vector and Target variable"
   ]
  },
  {
   "cell_type": "code",
   "execution_count": 48,
   "id": "2cce424b",
   "metadata": {},
   "outputs": [],
   "source": [
    "array = sonar_data.values\n",
    "S = array[:,0:-1].astype(float)\n",
    "V = array[:,-1]\n",
    "#Split data into training and test set\n",
    "validation_size = 0.2\n",
    "seed = 7\n",
    "S_train, S_test, V_train, V_test = train_test_split(S, V, test_size=validation_size, random_state=seed)"
   ]
  },
  {
   "cell_type": "code",
   "execution_count": 49,
   "id": "59a6013c",
   "metadata": {
    "scrolled": true
   },
   "outputs": [
    {
     "name": "stdout",
     "output_type": "stream",
     "text": [
      "[[0.0135 0.0045 0.0051 ... 0.0028 0.003  0.003 ]\n",
      " [0.0298 0.0615 0.065  ... 0.0049 0.02   0.0073]\n",
      " [0.01   0.0275 0.019  ... 0.002  0.0091 0.0058]\n",
      " ...\n",
      " [0.0151 0.032  0.0599 ... 0.0019 0.0023 0.0062]\n",
      " [0.0366 0.0421 0.0504 ... 0.0017 0.0027 0.0027]\n",
      " [0.0635 0.0709 0.0453 ... 0.0085 0.004  0.0051]]\n"
     ]
    }
   ],
   "source": [
    "print(S_train)"
   ]
  },
  {
   "cell_type": "code",
   "execution_count": 50,
   "id": "468502d8",
   "metadata": {},
   "outputs": [
    {
     "name": "stdout",
     "output_type": "stream",
     "text": [
      "['R' 'R' 'R' 'R' 'R' 'M' 'R' 'M' 'R' 'R' 'M' 'R' 'M' 'R' 'R' 'M' 'M' 'M'\n",
      " 'M' 'R' 'M' 'M' 'R' 'M' 'M' 'R' 'M' 'M' 'R' 'M' 'M' 'M' 'R' 'M' 'R' 'M'\n",
      " 'M' 'R' 'M' 'R' 'R' 'M' 'M' 'M' 'M' 'R' 'R' 'R' 'R' 'M' 'R' 'R' 'M' 'R'\n",
      " 'R' 'R' 'M' 'M' 'R' 'M' 'M' 'R' 'M' 'R' 'M' 'M' 'R' 'R' 'R' 'R' 'R' 'M'\n",
      " 'M' 'M' 'R' 'R' 'M' 'R' 'M' 'R' 'M' 'R' 'R' 'M' 'R' 'R' 'M' 'M' 'M' 'R'\n",
      " 'M' 'M' 'R' 'R' 'R' 'M' 'M' 'R' 'M' 'M' 'M' 'R' 'R' 'M' 'R' 'M' 'M' 'M'\n",
      " 'M' 'M' 'M' 'M' 'M' 'M' 'M' 'R' 'R' 'R' 'M' 'R' 'M' 'R' 'M' 'M' 'M' 'R'\n",
      " 'R' 'M' 'R' 'M' 'R' 'R' 'M' 'R' 'M' 'M' 'R' 'R' 'R' 'R' 'R' 'R' 'R' 'R'\n",
      " 'M' 'M' 'M' 'M' 'R' 'M' 'M' 'R' 'M' 'R' 'R' 'R' 'M' 'M' 'R' 'M' 'M' 'R'\n",
      " 'R' 'M' 'M']\n"
     ]
    }
   ],
   "source": [
    "print(V_train)"
   ]
  },
  {
   "cell_type": "markdown",
   "id": "89468968",
   "metadata": {},
   "source": [
    "Kernal Selection"
   ]
  },
  {
   "cell_type": "code",
   "execution_count": 51,
   "id": "fefdc41a",
   "metadata": {},
   "outputs": [],
   "source": [
    "num_folds = 10\n",
    "scoring = 'accuracy'"
   ]
  },
  {
   "cell_type": "code",
   "execution_count": 52,
   "id": "264d63cd",
   "metadata": {},
   "outputs": [],
   "source": [
    "scaler = StandardScaler().fit(S_train)\n",
    "rescaledX = scaler.transform(S_train)\n",
    "c_values = [0.1, 0.3, 0.5, 0.7, 0.9, 1.0, 1.3, 1.5, 1.7, 2.0]\n",
    "kernel_values = ['linear', 'poly', 'rbf', 'sigmoid']\n",
    "param_grid = dict(C=c_values, kernel=kernel_values)\n",
    "model = SVC()\n",
    "kfold = KFold(n_splits=num_folds)\n",
    "grid = GridSearchCV(estimator=model, param_grid=param_grid, scoring=scoring, cv=kfold)\n",
    "grid_result = grid.fit(rescaledX, V_train)"
   ]
  },
  {
   "cell_type": "code",
   "execution_count": 53,
   "id": "706dde1e",
   "metadata": {},
   "outputs": [
    {
     "name": "stdout",
     "output_type": "stream",
     "text": [
      "Best: 0.831250 using {'C': 1.5, 'kernel': 'rbf'}\n",
      "0.757721 (0.045667) with: {'C': 0.1, 'kernel': 'linear'}\n",
      "0.525368 (0.175329) with: {'C': 0.1, 'kernel': 'poly'}\n",
      "0.534926 (0.097883) with: {'C': 0.1, 'kernel': 'rbf'}\n",
      "0.659191 (0.101074) with: {'C': 0.1, 'kernel': 'sigmoid'}\n",
      "0.738603 (0.087951) with: {'C': 0.3, 'kernel': 'linear'}\n",
      "0.634191 (0.155287) with: {'C': 0.3, 'kernel': 'poly'}\n",
      "0.744853 (0.077872) with: {'C': 0.3, 'kernel': 'rbf'}\n",
      "0.708824 (0.102741) with: {'C': 0.3, 'kernel': 'sigmoid'}\n",
      "0.701471 (0.104166) with: {'C': 0.5, 'kernel': 'linear'}\n",
      "0.670956 (0.164123) with: {'C': 0.5, 'kernel': 'poly'}\n",
      "0.781618 (0.063661) with: {'C': 0.5, 'kernel': 'rbf'}\n",
      "0.715441 (0.109188) with: {'C': 0.5, 'kernel': 'sigmoid'}\n",
      "0.720588 (0.099060) with: {'C': 0.7, 'kernel': 'linear'}\n",
      "0.709191 (0.141384) with: {'C': 0.7, 'kernel': 'poly'}\n",
      "0.794485 (0.060309) with: {'C': 0.7, 'kernel': 'rbf'}\n",
      "0.715074 (0.113950) with: {'C': 0.7, 'kernel': 'sigmoid'}\n",
      "0.708088 (0.095859) with: {'C': 0.9, 'kernel': 'linear'}\n",
      "0.708824 (0.154033) with: {'C': 0.9, 'kernel': 'poly'}\n",
      "0.794853 (0.069713) with: {'C': 0.9, 'kernel': 'rbf'}\n",
      "0.708824 (0.123464) with: {'C': 0.9, 'kernel': 'sigmoid'}\n",
      "0.714338 (0.092206) with: {'C': 1.0, 'kernel': 'linear'}\n",
      "0.720956 (0.158314) with: {'C': 1.0, 'kernel': 'poly'}\n",
      "0.800735 (0.069403) with: {'C': 1.0, 'kernel': 'rbf'}\n",
      "0.708824 (0.123464) with: {'C': 1.0, 'kernel': 'sigmoid'}\n",
      "0.726838 (0.096111) with: {'C': 1.3, 'kernel': 'linear'}\n",
      "0.745221 (0.125098) with: {'C': 1.3, 'kernel': 'poly'}\n",
      "0.819118 (0.078539) with: {'C': 1.3, 'kernel': 'rbf'}\n",
      "0.720956 (0.115226) with: {'C': 1.3, 'kernel': 'sigmoid'}\n",
      "0.726838 (0.096111) with: {'C': 1.5, 'kernel': 'linear'}\n",
      "0.744853 (0.137799) with: {'C': 1.5, 'kernel': 'poly'}\n",
      "0.831250 (0.073095) with: {'C': 1.5, 'kernel': 'rbf'}\n",
      "0.732721 (0.147050) with: {'C': 1.5, 'kernel': 'sigmoid'}\n",
      "0.720956 (0.102407) with: {'C': 1.7, 'kernel': 'linear'}\n",
      "0.738971 (0.130346) with: {'C': 1.7, 'kernel': 'poly'}\n",
      "0.818750 (0.069815) with: {'C': 1.7, 'kernel': 'rbf'}\n",
      "0.738235 (0.149473) with: {'C': 1.7, 'kernel': 'sigmoid'}\n",
      "0.727206 (0.086453) with: {'C': 2.0, 'kernel': 'linear'}\n",
      "0.751103 (0.112827) with: {'C': 2.0, 'kernel': 'poly'}\n",
      "0.830882 (0.073768) with: {'C': 2.0, 'kernel': 'rbf'}\n",
      "0.769485 (0.117889) with: {'C': 2.0, 'kernel': 'sigmoid'}\n"
     ]
    }
   ],
   "source": [
    "print(\"Best: %f using %s\" % (grid_result.best_score_, grid_result.best_params_))\n",
    "means = grid_result.cv_results_['mean_test_score']\n",
    "stds = grid_result.cv_results_['std_test_score']\n",
    "params = grid_result.cv_results_['params']\n",
    "for mean, stdev, param in zip(means, stds, params):\n",
    "    print(\"%f (%f) with: %r\" % (mean, stdev, param))"
   ]
  },
  {
   "cell_type": "code",
   "execution_count": 54,
   "id": "c57aaf73",
   "metadata": {},
   "outputs": [
    {
     "data": {
      "text/plain": [
       "SVC(C=1.5)"
      ]
     },
     "execution_count": 54,
     "metadata": {},
     "output_type": "execute_result"
    }
   ],
   "source": [
    "# instantiate classifier with rbf kernel and C=1.5\n",
    "rbf_svc=SVC(kernel='rbf', C=1.5) \n",
    "# fit classifier to training set\n",
    "rbf_svc.fit(S_train,V_train)"
   ]
  },
  {
   "cell_type": "code",
   "execution_count": 55,
   "id": "0504b996",
   "metadata": {},
   "outputs": [
    {
     "name": "stdout",
     "output_type": "stream",
     "text": [
      "Model accuracy score with rbf kernel and C=1.5 : 0.8095\n"
     ]
    }
   ],
   "source": [
    "# make predictions on test set\n",
    "V_pred_test=rbf_svc.predict(S_test)\n",
    "# compute and print accuracy score\n",
    "print('Model accuracy score with rbf kernel and C=1.5 : {0:0.4f}'. format(accuracy_score(V_test, V_pred_test)))"
   ]
  },
  {
   "cell_type": "code",
   "execution_count": 56,
   "id": "5e8762cb",
   "metadata": {},
   "outputs": [
    {
     "name": "stdout",
     "output_type": "stream",
     "text": [
      "Training set score: 0.9212\n",
      "Test set score: 0.8095\n"
     ]
    }
   ],
   "source": [
    "print('Training set score: {:.4f}'.format(rbf_svc.score(S_train, V_train)))\n",
    "print('Test set score: {:.4f}'.format(rbf_svc.score(S_test, V_test)))"
   ]
  },
  {
   "cell_type": "markdown",
   "id": "12fcf931",
   "metadata": {},
   "source": [
    "Confusion Matrix"
   ]
  },
  {
   "cell_type": "code",
   "execution_count": 57,
   "id": "2a3e257e",
   "metadata": {},
   "outputs": [
    {
     "name": "stdout",
     "output_type": "stream",
     "text": [
      "Confusion matrix\n",
      " [[22  4]\n",
      " [ 4 12]]\n",
      "True Positives(TP) =  22\n",
      "True Negatives(TN) =  12\n",
      "False Positives(FP) =  4\n",
      "False Negatives(FN) =  4\n"
     ]
    }
   ],
   "source": [
    "scm = confusion_matrix(V_test, V_pred_test)\n",
    "print('Confusion matrix\\n', scm)\n",
    "print('True Positives(TP) = ', scm[0,0])\n",
    "print('True Negatives(TN) = ', scm[1,1])\n",
    "print('False Positives(FP) = ', scm[0,1])\n",
    "print('False Negatives(FN) = ', scm[1,0])"
   ]
  },
  {
   "cell_type": "code",
   "execution_count": 58,
   "id": "e1f8e60f",
   "metadata": {},
   "outputs": [
    {
     "data": {
      "text/plain": [
       "<AxesSubplot:>"
      ]
     },
     "execution_count": 58,
     "metadata": {},
     "output_type": "execute_result"
    },
    {
     "data": {
      "image/png": "[encoded data removed]",
      "text/plain": [
       "<Figure size 432x288 with 2 Axes>"
      ]
     },
     "metadata": {},
     "output_type": "display_data"
    }
   ],
   "source": [
    "scm_matrix = pd.DataFrame(data=scm, columns=['Actual Positive:1', 'Actual Negative:0'], index=['Predict Positive:1', 'Predict Negative:0'])\n",
    "sns.heatmap(scm_matrix, annot=True, fmt='d', cmap='Blues')"
   ]
  },
  {
   "cell_type": "markdown",
   "id": "64e73ddc",
   "metadata": {},
   "source": [
    "Classification Metrices"
   ]
  },
  {
   "cell_type": "code",
   "execution_count": 59,
   "id": "b1564301",
   "metadata": {},
   "outputs": [],
   "source": [
    "TP = scm[0,0]\n",
    "TN =scm[1,1]\n",
    "FP = scm[0,1]\n",
    "FN =scm[1,0]"
   ]
  },
  {
   "cell_type": "code",
   "execution_count": 60,
   "id": "8e534900",
   "metadata": {},
   "outputs": [
    {
     "name": "stdout",
     "output_type": "stream",
     "text": [
      "Classification Error : 0.1905\n"
     ]
    }
   ],
   "source": [
    "classification_error = (FP + FN) / float(TP + TN + FP + FN)\n",
    "print('Classification Error : {0:0.4f}'.format(classification_error))"
   ]
  },
  {
   "cell_type": "code",
   "execution_count": 61,
   "id": "fb33dcb6",
   "metadata": {},
   "outputs": [
    {
     "name": "stdout",
     "output_type": "stream",
     "text": [
      "Classification Precision : 0.8462\n"
     ]
    }
   ],
   "source": [
    "# print precision score\n",
    "precision = TP / float(TP + FP)\n",
    "print('Classification Precision : {0:0.4f}'.format(precision))"
   ]
  },
  {
   "cell_type": "code",
   "execution_count": 62,
   "id": "0926b40f",
   "metadata": {},
   "outputs": [
    {
     "name": "stdout",
     "output_type": "stream",
     "text": [
      "['R']\n",
      "The object is Rock\n"
     ]
    }
   ],
   "source": [
    "#Prediction model\n",
    "input_data = (0.0181,0.0146,0.0026,0.0141,0.0421,0.0473,0.0361,0.0741,0.1398,0.1045,0.0904,0.0671,0.0997,0.1056,0.0346,0.1231,0.1626,0.3652,0.3262,0.2995,0.2109,0.2104,0.2085,0.2282,0.0747,0.1969,0.4086,0.6385,0.797,0.7508,0.5517,0.2214,0.4672,0.4479,0.2297,0.3235,0.448,0.5581,0.652,0.5354,0.2478,0.2268,0.1788,0.0898,0.0536,0.0374,0.099,0.0956,0.0317,0.0142,0.0076,0.0223,0.0255,0.0145,0.0233,0.0041,0.0018,0.0048,0.0089,0.0085)\n",
    "# changing the input_data to a numpy array\n",
    "input_data_as_numpy_array = np.asarray(input_data)\n",
    "# reshape the np array as we are predicting for one instance\n",
    "input_data_reshaped = input_data_as_numpy_array.reshape(1,-1)\n",
    "prediction = rbf_svc.predict(input_data_reshaped)\n",
    "print(prediction)\n",
    "if (prediction[0]==0):\n",
    "    print(\"The object is Mine\")\n",
    "else :\n",
    "    print(\"The object is Rock\")    "
   ]
  },
  {
   "cell_type": "code",
   "execution_count": 63,
   "id": "19bdcb16",
   "metadata": {},
   "outputs": [
    {
     "name": "stdout",
     "output_type": "stream",
     "text": [
      "['M']\n",
      "The object is a mine\n"
     ]
    }
   ],
   "source": [
    "input_data = (0.0307,0.0523,0.0653,0.0521,0.0611,0.0577,0.0665,0.0664,0.1460,0.2792,0.3877,0.4992,0.4981,0.4972,0.5607,0.7339,0.8230,0.9173,0.9975,0.9911,0.8240,0.6498,0.5980,0.4862,0.3150,0.1543,0.0989,0.0284,0.1008,0.2636,0.2694,0.2930,0.2925,0.3998,0.3660,0.3172,0.4609,0.4374,0.1820,0.3376,0.6202,0.4448,0.1863,0.1420,0.0589,0.0576,0.0672,0.0269,0.0245,0.0190,0.0063,0.0321,0.0189,0.0137,0.0277,0.0152,0.0052,0.0121,0.0124,0.0055)\n",
    "# changing the input_data to a numpy array\n",
    "input_data_as_numpy_array = np.asarray(input_data)\n",
    "# reshape the np array as we are predicting for one instance\n",
    "input_data_reshaped = input_data_as_numpy_array.reshape(1,-1)\n",
    "prediction = rbf_svc.predict(input_data_reshaped)\n",
    "print(prediction)\n",
    "if (prediction[0]==0):\n",
    "    print('The object is a Rock')\n",
    "else:\n",
    "    print('The object is a mine')"
   ]
  },
  {
   "cell_type": "markdown",
   "id": "530dfcf3",
   "metadata": {},
   "source": [
    "Logistic Regression"
   ]
  },
  {
   "cell_type": "code",
   "execution_count": 64,
   "id": "04a4efd5",
   "metadata": {},
   "outputs": [],
   "source": [
    "import category_encoders as ce"
   ]
  },
  {
   "cell_type": "markdown",
   "id": "f58489da",
   "metadata": {},
   "source": [
    "Declare feature vector and target variable"
   ]
  },
  {
   "cell_type": "code",
   "execution_count": 65,
   "id": "9a9d27b2",
   "metadata": {},
   "outputs": [],
   "source": [
    "array = sonar_data.values\n",
    "L = array[:,0:-1].astype(float)\n",
    "R = array[:,-1]"
   ]
  },
  {
   "cell_type": "markdown",
   "id": "2bab93ab",
   "metadata": {},
   "source": [
    "Split data into separate training and test set"
   ]
  },
  {
   "cell_type": "code",
   "execution_count": 66,
   "id": "c7d3851e",
   "metadata": {},
   "outputs": [],
   "source": [
    "L_train, L_test, R_train, R_test = train_test_split(L, R, test_size = 0.2, random_state = 0)"
   ]
  },
  {
   "cell_type": "code",
   "execution_count": 67,
   "id": "dad64b75",
   "metadata": {},
   "outputs": [
    {
     "name": "stdout",
     "output_type": "stream",
     "text": [
      "[[0.0116 0.0179 0.0449 ... 0.0054 0.0148 0.0092]\n",
      " [0.0392 0.0108 0.0267 ... 0.0044 0.0022 0.0014]\n",
      " [0.0286 0.0453 0.0277 ... 0.0027 0.0051 0.0062]\n",
      " ...\n",
      " [0.0363 0.0478 0.0298 ... 0.0114 0.0073 0.0033]\n",
      " [0.019  0.0038 0.0642 ... 0.0022 0.0055 0.0122]\n",
      " [0.0329 0.0216 0.0386 ... 0.0042 0.0053 0.0074]]\n"
     ]
    }
   ],
   "source": [
    "print(L_train)"
   ]
  },
  {
   "cell_type": "code",
   "execution_count": 68,
   "id": "65ff9832",
   "metadata": {},
   "outputs": [
    {
     "name": "stdout",
     "output_type": "stream",
     "text": [
      "['M' 'M' 'R' 'R' 'M' 'R' 'R' 'M' 'R' 'M' 'M' 'M' 'R' 'R' 'M' 'M' 'M' 'M'\n",
      " 'M' 'M' 'R' 'R' 'R' 'R' 'R' 'R' 'M' 'R' 'R' 'M' 'M' 'R' 'M' 'R' 'M' 'M'\n",
      " 'M' 'M' 'M' 'M' 'M' 'M' 'R' 'R' 'M' 'M' 'R' 'R' 'M' 'M' 'M' 'R' 'R' 'R'\n",
      " 'M' 'M' 'R' 'R' 'M' 'R' 'M' 'M' 'M' 'M' 'M' 'R' 'R' 'M' 'M' 'M' 'R' 'M'\n",
      " 'R' 'R' 'M' 'R' 'R' 'M' 'R' 'R' 'R' 'R' 'R' 'M' 'R' 'M' 'R' 'R' 'M' 'M'\n",
      " 'M' 'R' 'R' 'R' 'M' 'M' 'M' 'M' 'R' 'M' 'R' 'M' 'M' 'R' 'R' 'R' 'R' 'M'\n",
      " 'M' 'R' 'M' 'M' 'M' 'R' 'R' 'M' 'R' 'M' 'M' 'R' 'R' 'M' 'M' 'M' 'R' 'M'\n",
      " 'M' 'M' 'R' 'M' 'M' 'M' 'M' 'R' 'M' 'R' 'M' 'R' 'M' 'M' 'M' 'R' 'R' 'R'\n",
      " 'M' 'R' 'M' 'M' 'M' 'R' 'R' 'M' 'R' 'R' 'R' 'R' 'R' 'R' 'M' 'M' 'R' 'M'\n",
      " 'M' 'R' 'M']\n"
     ]
    }
   ],
   "source": [
    "print(R_train)"
   ]
  },
  {
   "cell_type": "code",
   "execution_count": 69,
   "id": "b9349b30",
   "metadata": {},
   "outputs": [],
   "source": [
    "encoder = ce.BinaryEncoder()\n",
    "L_train = encoder.fit_transform(L_train)\n",
    "L_test = encoder.transform(L_test)"
   ]
  },
  {
   "cell_type": "code",
   "execution_count": 70,
   "id": "a3af0231",
   "metadata": {},
   "outputs": [
    {
     "data": {
      "text/plain": [
       "LogisticRegression(random_state=0, solver='liblinear')"
      ]
     },
     "execution_count": 70,
     "metadata": {},
     "output_type": "execute_result"
    }
   ],
   "source": [
    "lg = LogisticRegression(solver='liblinear', random_state=0)\n",
    "# fit the model\n",
    "lg.fit(L_train, R_train)"
   ]
  },
  {
   "cell_type": "code",
   "execution_count": 71,
   "id": "72286210",
   "metadata": {},
   "outputs": [
    {
     "data": {
      "text/plain": [
       "array(['R', 'M', 'R', 'R', 'M', 'M', 'M', 'M', 'R', 'M', 'R', 'M', 'R',\n",
       "       'M', 'R', 'R', 'M', 'R', 'R', 'M', 'R', 'R', 'M', 'M', 'R', 'R',\n",
       "       'M', 'M', 'M', 'M', 'R', 'M', 'M', 'R', 'M', 'M', 'M', 'M', 'R',\n",
       "       'M', 'M', 'R'], dtype=object)"
      ]
     },
     "execution_count": 71,
     "metadata": {},
     "output_type": "execute_result"
    }
   ],
   "source": [
    "R_pred_test = lg.predict(L_test)\n",
    "R_pred_test"
   ]
  },
  {
   "cell_type": "code",
   "execution_count": 72,
   "id": "d7985cc6",
   "metadata": {},
   "outputs": [
    {
     "name": "stdout",
     "output_type": "stream",
     "text": [
      "Training set score: 0.8000\n",
      "Test set score: 0.8095\n"
     ]
    }
   ],
   "source": [
    "print('Training set score: {:.4f}'.format(lg.score(L_train, R_train)))\n",
    "print('Test set score: {:.4f}'.format(lg.score(L_test, R_test)))"
   ]
  },
  {
   "cell_type": "markdown",
   "id": "a5006672",
   "metadata": {},
   "source": [
    "Confusion Matrix"
   ]
  },
  {
   "cell_type": "code",
   "execution_count": 73,
   "id": "3ec3efb3",
   "metadata": {},
   "outputs": [
    {
     "name": "stdout",
     "output_type": "stream",
     "text": [
      "Confusion matrix\n",
      " [[19  3]\n",
      " [ 5 15]]\n",
      "True Positives(TP) =  19\n",
      "True Negatives(TN) =  15\n",
      "False Positives(FP) =  3\n",
      "False Negatives(FN) =  5\n"
     ]
    }
   ],
   "source": [
    "lcm = confusion_matrix(R_test, R_pred_test)\n",
    "print('Confusion matrix\\n', lcm)\n",
    "print('True Positives(TP) = ', lcm[0,0])\n",
    "print('True Negatives(TN) = ', lcm[1,1])\n",
    "print('False Positives(FP) = ', lcm[0,1])\n",
    "print('False Negatives(FN) = ', lcm[1,0])"
   ]
  },
  {
   "cell_type": "code",
   "execution_count": 74,
   "id": "fe047faf",
   "metadata": {},
   "outputs": [
    {
     "data": {
      "text/plain": [
       "<AxesSubplot:>"
      ]
     },
     "execution_count": 74,
     "metadata": {},
     "output_type": "execute_result"
    },
    {
     "data": {
      "image/png": "[encoded data removed]",
      "text/plain": [
       "<Figure size 432x288 with 2 Axes>"
      ]
     },
     "metadata": {},
     "output_type": "display_data"
    }
   ],
   "source": [
    "lcm_matrix = pd.DataFrame(data=lcm, columns=['Actual Positive:1', 'Actual Negative:0'], index=['Predict Positive:1', 'Predict Negative:0'])\n",
    "sns.heatmap(lcm_matrix, annot=True, fmt='d', cmap='Blues')"
   ]
  },
  {
   "cell_type": "markdown",
   "id": "e609b534",
   "metadata": {},
   "source": [
    "Clasiification Metrices"
   ]
  },
  {
   "cell_type": "code",
   "execution_count": 75,
   "id": "1686eb5e",
   "metadata": {},
   "outputs": [],
   "source": [
    "TP = lcm[0,0]\n",
    "TN =lcm[1,1]\n",
    "FP = lcm[0,1]\n",
    "FN =lcm[1,0]"
   ]
  },
  {
   "cell_type": "code",
   "execution_count": 76,
   "id": "c99a53fa",
   "metadata": {},
   "outputs": [
    {
     "name": "stdout",
     "output_type": "stream",
     "text": [
      "Classification Error : 0.1905\n"
     ]
    }
   ],
   "source": [
    "#Error score\n",
    "classification_error = (FP + FN) / float(TP + TN + FP + FN)\n",
    "print('Classification Error : {0:0.4f}'.format(classification_error))"
   ]
  },
  {
   "cell_type": "code",
   "execution_count": 77,
   "id": "7e4d6d8d",
   "metadata": {},
   "outputs": [
    {
     "name": "stdout",
     "output_type": "stream",
     "text": [
      "Classification Precision : 0.8636\n"
     ]
    }
   ],
   "source": [
    "# print precision score\n",
    "precision = TP / float(TP + FP)\n",
    "print('Classification Precision : {0:0.4f}'.format(precision))"
   ]
  },
  {
   "cell_type": "code",
   "execution_count": 78,
   "id": "7ea1b0c4",
   "metadata": {},
   "outputs": [
    {
     "name": "stdout",
     "output_type": "stream",
     "text": [
      "['R']\n",
      "The object is a Rock\n"
     ]
    }
   ],
   "source": [
    "#prediction model\n",
    "input_data = (0.0181,0.0146,0.0026,0.0141,0.0421,0.0473,0.0361,0.0741,0.1398,0.1045,0.0904,0.0671,0.0997,0.1056,0.0346,0.1231,0.1626,0.3652,0.3262,0.2995,0.2109,0.2104,0.2085,0.2282,0.0747,0.1969,0.4086,0.6385,0.797,0.7508,0.5517,0.2214,0.4672,0.4479,0.2297,0.3235,0.448,0.5581,0.652,0.5354,0.2478,0.2268,0.1788,0.0898,0.0536,0.0374,0.099,0.0956,0.0317,0.0142,0.0076,0.0223,0.0255,0.0145,0.0233,0.0041,0.0018,0.0048,0.0089,0.0085)\n",
    "# changing the input_data to a numpy array\n",
    "input_data_as_numpy_array = np.asarray(input_data)\n",
    "# reshape the np array as we are predicting for one instance\n",
    "input_data_reshaped = input_data_as_numpy_array.reshape(1,-1)\n",
    "prediction = lg.predict(input_data_reshaped)\n",
    "print(prediction)\n",
    "if (prediction[0]=='R'):\n",
    "    print('The object is a Rock')\n",
    "else:\n",
    "    print('The object is a mine')    "
   ]
  },
  {
   "cell_type": "code",
   "execution_count": 79,
   "id": "d0aa7c17",
   "metadata": {},
   "outputs": [
    {
     "name": "stdout",
     "output_type": "stream",
     "text": [
      "['M']\n",
      "The object is a mine\n"
     ]
    }
   ],
   "source": [
    "input_data = (0.0307,0.0523,0.0653,0.0521,0.0611,0.0577,0.0665,0.0664,0.1460,0.2792,0.3877,0.4992,0.4981,0.4972,0.5607,0.7339,0.8230,0.9173,0.9975,0.9911,0.8240,0.6498,0.5980,0.4862,0.3150,0.1543,0.0989,0.0284,0.1008,0.2636,0.2694,0.2930,0.2925,0.3998,0.3660,0.3172,0.4609,0.4374,0.1820,0.3376,0.6202,0.4448,0.1863,0.1420,0.0589,0.0576,0.0672,0.0269,0.0245,0.0190,0.0063,0.0321,0.0189,0.0137,0.0277,0.0152,0.0052,0.0121,0.0124,0.0055)\n",
    "# changing the input_data to a numpy array\n",
    "input_data_as_numpy_array = np.asarray(input_data)\n",
    "# reshape the np array as we are predicting for one instance\n",
    "input_data_reshaped = input_data_as_numpy_array.reshape(1,-1)\n",
    "prediction = lg.predict(input_data_reshaped)\n",
    "print(prediction)\n",
    "if (prediction[0]=='R'):\n",
    "    print('The object is a Rock')\n",
    "else:\n",
    "    print('The object is a mine')"
   ]
  }
 ],
 "metadata": {
  "kernelspec": {
   "display_name": "Python 3 (ipykernel)",
   "language": "python",
   "name": "python3"
  },
  "language_info": {
   "codemirror_mode": {
    "name": "ipython",
    "version": 3
   },
   "file_extension": ".py",
   "mimetype": "text/x-python",
   "name": "python",
   "nbconvert_exporter": "python",
   "pygments_lexer": "ipython3",
   "version": "3.9.7"
  }
 },
 "nbformat": 4,
 "nbformat_minor": 5
}
